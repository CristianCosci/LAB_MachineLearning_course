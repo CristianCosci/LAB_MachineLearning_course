{
  "nbformat": 4,
  "nbformat_minor": 0,
  "metadata": {
    "colab": {
      "name": "LSTM_Tesla_Stock_prediction.ipynb",
      "provenance": [],
      "collapsed_sections": [],
      "include_colab_link": true
    },
    "kernelspec": {
      "name": "python3",
      "display_name": "Python 3"
    },
    "language_info": {
      "name": "python"
    }
  },
  "cells": [
    {
      "cell_type": "markdown",
      "metadata": {
        "id": "view-in-github",
        "colab_type": "text"
      },
      "source": [
        "<a href=\"https://colab.research.google.com/github/CristianCosci/LAB_MachineLearning_course/blob/main/LSTM_Tesla_Stock_prediction.ipynb\" target=\"_parent\"><img src=\"https://colab.research.google.com/assets/colab-badge.svg\" alt=\"Open In Colab\"/></a>"
      ]
    },
    {
      "cell_type": "code",
      "source": [
        "from google.colab import drive\n",
        "drive.mount('/content/drive')"
      ],
      "metadata": {
        "colab": {
          "base_uri": "https://localhost:8080/"
        },
        "id": "BadqHsbrZz8M",
        "outputId": "ecd7b8a2-d489-4752-a510-7fc1d41c1d0f"
      },
      "execution_count": 1,
      "outputs": [
        {
          "output_type": "stream",
          "name": "stdout",
          "text": [
            "Mounted at /content/drive\n"
          ]
        }
      ]
    },
    {
      "cell_type": "code",
      "metadata": {
        "id": "LToDPXkm5Sq_"
      },
      "source": [
        "import math\n",
        "import matplotlib.pyplot as plt\n",
        "import keras\n",
        "import pandas as pd\n",
        "import numpy as np\n",
        "from keras.models import Sequential\n",
        "from keras.layers import Dense\n",
        "from keras.layers import LSTM\n",
        "from keras.layers import Dropout\n",
        "from keras.layers import *\n",
        "from sklearn.preprocessing import MinMaxScaler\n",
        "from sklearn.metrics import mean_squared_error\n",
        "from sklearn.metrics import mean_absolute_error\n",
        "from sklearn.model_selection import train_test_split\n",
        "from keras.callbacks import EarlyStopping\n",
        "from keras.models import Model\n"
      ],
      "execution_count": 2,
      "outputs": []
    },
    {
      "cell_type": "markdown",
      "metadata": {
        "id": "9_cQ8IML848o"
      },
      "source": [
        "**Getting the stock price history data**\n",
        "\n",
        "load the data and inspect it:"
      ]
    },
    {
      "cell_type": "code",
      "metadata": {
        "colab": {
          "base_uri": "https://localhost:8080/",
          "height": 224
        },
        "id": "_0tRhuGp5sqn",
        "outputId": "d94ab9da-c4a9-4449-8e8c-48acd532ec17"
      },
      "source": [
        "df=pd.read_csv(\"/content/drive/MyDrive/Colab Notebooks/TSLA.csv\")\n",
        "\n",
        "print(\"Number of rows and columns:\", df.shape)\n",
        "df.head(5)"
      ],
      "execution_count": 45,
      "outputs": [
        {
          "output_type": "stream",
          "name": "stdout",
          "text": [
            "Number of rows and columns: (1259, 7)\n"
          ]
        },
        {
          "output_type": "execute_result",
          "data": {
            "text/plain": [
              "         Date       Open       High        Low      Close  Adj Close    Volume\n",
              "0  2015-07-10  52.444000  52.599998  51.563999  51.830002  51.830002  13054500\n",
              "1  2015-07-13  52.450001  52.509998  51.209999  52.431999  52.431999  14801500\n",
              "2  2015-07-14  52.419998  53.198002  52.102001  53.130001  53.130001   9538000\n",
              "3  2015-07-15  53.348000  53.498001  52.416000  52.627998  52.627998  10108000\n",
              "4  2015-07-16  52.844002  53.439999  52.632000  53.335999  53.335999   8080000"
            ],
            "text/html": [
              "\n",
              "  <div id=\"df-08f9779a-91b2-44c1-85e3-84d28e44d5b5\">\n",
              "    <div class=\"colab-df-container\">\n",
              "      <div>\n",
              "<style scoped>\n",
              "    .dataframe tbody tr th:only-of-type {\n",
              "        vertical-align: middle;\n",
              "    }\n",
              "\n",
              "    .dataframe tbody tr th {\n",
              "        vertical-align: top;\n",
              "    }\n",
              "\n",
              "    .dataframe thead th {\n",
              "        text-align: right;\n",
              "    }\n",
              "</style>\n",
              "<table border=\"1\" class=\"dataframe\">\n",
              "  <thead>\n",
              "    <tr style=\"text-align: right;\">\n",
              "      <th></th>\n",
              "      <th>Date</th>\n",
              "      <th>Open</th>\n",
              "      <th>High</th>\n",
              "      <th>Low</th>\n",
              "      <th>Close</th>\n",
              "      <th>Adj Close</th>\n",
              "      <th>Volume</th>\n",
              "    </tr>\n",
              "  </thead>\n",
              "  <tbody>\n",
              "    <tr>\n",
              "      <th>0</th>\n",
              "      <td>2015-07-10</td>\n",
              "      <td>52.444000</td>\n",
              "      <td>52.599998</td>\n",
              "      <td>51.563999</td>\n",
              "      <td>51.830002</td>\n",
              "      <td>51.830002</td>\n",
              "      <td>13054500</td>\n",
              "    </tr>\n",
              "    <tr>\n",
              "      <th>1</th>\n",
              "      <td>2015-07-13</td>\n",
              "      <td>52.450001</td>\n",
              "      <td>52.509998</td>\n",
              "      <td>51.209999</td>\n",
              "      <td>52.431999</td>\n",
              "      <td>52.431999</td>\n",
              "      <td>14801500</td>\n",
              "    </tr>\n",
              "    <tr>\n",
              "      <th>2</th>\n",
              "      <td>2015-07-14</td>\n",
              "      <td>52.419998</td>\n",
              "      <td>53.198002</td>\n",
              "      <td>52.102001</td>\n",
              "      <td>53.130001</td>\n",
              "      <td>53.130001</td>\n",
              "      <td>9538000</td>\n",
              "    </tr>\n",
              "    <tr>\n",
              "      <th>3</th>\n",
              "      <td>2015-07-15</td>\n",
              "      <td>53.348000</td>\n",
              "      <td>53.498001</td>\n",
              "      <td>52.416000</td>\n",
              "      <td>52.627998</td>\n",
              "      <td>52.627998</td>\n",
              "      <td>10108000</td>\n",
              "    </tr>\n",
              "    <tr>\n",
              "      <th>4</th>\n",
              "      <td>2015-07-16</td>\n",
              "      <td>52.844002</td>\n",
              "      <td>53.439999</td>\n",
              "      <td>52.632000</td>\n",
              "      <td>53.335999</td>\n",
              "      <td>53.335999</td>\n",
              "      <td>8080000</td>\n",
              "    </tr>\n",
              "  </tbody>\n",
              "</table>\n",
              "</div>\n",
              "      <button class=\"colab-df-convert\" onclick=\"convertToInteractive('df-08f9779a-91b2-44c1-85e3-84d28e44d5b5')\"\n",
              "              title=\"Convert this dataframe to an interactive table.\"\n",
              "              style=\"display:none;\">\n",
              "        \n",
              "  <svg xmlns=\"http://www.w3.org/2000/svg\" height=\"24px\"viewBox=\"0 0 24 24\"\n",
              "       width=\"24px\">\n",
              "    <path d=\"M0 0h24v24H0V0z\" fill=\"none\"/>\n",
              "    <path d=\"M18.56 5.44l.94 2.06.94-2.06 2.06-.94-2.06-.94-.94-2.06-.94 2.06-2.06.94zm-11 1L8.5 8.5l.94-2.06 2.06-.94-2.06-.94L8.5 2.5l-.94 2.06-2.06.94zm10 10l.94 2.06.94-2.06 2.06-.94-2.06-.94-.94-2.06-.94 2.06-2.06.94z\"/><path d=\"M17.41 7.96l-1.37-1.37c-.4-.4-.92-.59-1.43-.59-.52 0-1.04.2-1.43.59L10.3 9.45l-7.72 7.72c-.78.78-.78 2.05 0 2.83L4 21.41c.39.39.9.59 1.41.59.51 0 1.02-.2 1.41-.59l7.78-7.78 2.81-2.81c.8-.78.8-2.07 0-2.86zM5.41 20L4 18.59l7.72-7.72 1.47 1.35L5.41 20z\"/>\n",
              "  </svg>\n",
              "      </button>\n",
              "      \n",
              "  <style>\n",
              "    .colab-df-container {\n",
              "      display:flex;\n",
              "      flex-wrap:wrap;\n",
              "      gap: 12px;\n",
              "    }\n",
              "\n",
              "    .colab-df-convert {\n",
              "      background-color: #E8F0FE;\n",
              "      border: none;\n",
              "      border-radius: 50%;\n",
              "      cursor: pointer;\n",
              "      display: none;\n",
              "      fill: #1967D2;\n",
              "      height: 32px;\n",
              "      padding: 0 0 0 0;\n",
              "      width: 32px;\n",
              "    }\n",
              "\n",
              "    .colab-df-convert:hover {\n",
              "      background-color: #E2EBFA;\n",
              "      box-shadow: 0px 1px 2px rgba(60, 64, 67, 0.3), 0px 1px 3px 1px rgba(60, 64, 67, 0.15);\n",
              "      fill: #174EA6;\n",
              "    }\n",
              "\n",
              "    [theme=dark] .colab-df-convert {\n",
              "      background-color: #3B4455;\n",
              "      fill: #D2E3FC;\n",
              "    }\n",
              "\n",
              "    [theme=dark] .colab-df-convert:hover {\n",
              "      background-color: #434B5C;\n",
              "      box-shadow: 0px 1px 3px 1px rgba(0, 0, 0, 0.15);\n",
              "      filter: drop-shadow(0px 1px 2px rgba(0, 0, 0, 0.3));\n",
              "      fill: #FFFFFF;\n",
              "    }\n",
              "  </style>\n",
              "\n",
              "      <script>\n",
              "        const buttonEl =\n",
              "          document.querySelector('#df-08f9779a-91b2-44c1-85e3-84d28e44d5b5 button.colab-df-convert');\n",
              "        buttonEl.style.display =\n",
              "          google.colab.kernel.accessAllowed ? 'block' : 'none';\n",
              "\n",
              "        async function convertToInteractive(key) {\n",
              "          const element = document.querySelector('#df-08f9779a-91b2-44c1-85e3-84d28e44d5b5');\n",
              "          const dataTable =\n",
              "            await google.colab.kernel.invokeFunction('convertToInteractive',\n",
              "                                                     [key], {});\n",
              "          if (!dataTable) return;\n",
              "\n",
              "          const docLinkHtml = 'Like what you see? Visit the ' +\n",
              "            '<a target=\"_blank\" href=https://colab.research.google.com/notebooks/data_table.ipynb>data table notebook</a>'\n",
              "            + ' to learn more about interactive tables.';\n",
              "          element.innerHTML = '';\n",
              "          dataTable['output_type'] = 'display_data';\n",
              "          await google.colab.output.renderOutput(dataTable, element);\n",
              "          const docLink = document.createElement('div');\n",
              "          docLink.innerHTML = docLinkHtml;\n",
              "          element.appendChild(docLink);\n",
              "        }\n",
              "      </script>\n",
              "    </div>\n",
              "  </div>\n",
              "  "
            ]
          },
          "metadata": {},
          "execution_count": 45
        }
      ]
    },
    {
      "cell_type": "markdown",
      "metadata": {
        "id": "CWvod_ui9D5X"
      },
      "source": [
        " **Load the data and inspect them**"
      ]
    },
    {
      "cell_type": "code",
      "metadata": {
        "id": "-YZSdRjC55Uc",
        "colab": {
          "base_uri": "https://localhost:8080/"
        },
        "outputId": "7e13e78c-6187-4225-de9a-84e891235009"
      },
      "source": [
        "training_set = df.iloc[:800, 1:2].values\n",
        "test_set = df.iloc[800:, 1:2].values\n",
        "print(training_set[:5])"
      ],
      "execution_count": 54,
      "outputs": [
        {
          "output_type": "stream",
          "name": "stdout",
          "text": [
            "[[52.444   ]\n",
            " [52.450001]\n",
            " [52.419998]\n",
            " [53.348   ]\n",
            " [52.844002]]\n"
          ]
        }
      ]
    },
    {
      "cell_type": "markdown",
      "metadata": {
        "id": "0p5daxXF9Geq"
      },
      "source": [
        "**normalize and reshape**\n",
        "\n",
        "We want our data to be in the form of a 3D array for our LSTM model. First, we create data in 60 timesteps and convert it into an array using NumPy. Then, we convert the data into a 3D array with X_train samples, 60 timestamps, and one feature at each step."
      ]
    },
    {
      "cell_type": "code",
      "metadata": {
        "id": "oxAnAPWd5-F6",
        "colab": {
          "base_uri": "https://localhost:8080/"
        },
        "outputId": "7db807ca-a239-4730-80f8-308fbe14643e"
      },
      "source": [
        "# Feature Scaling\n",
        "sc = MinMaxScaler(feature_range = (0, 1))\n",
        "training_set_scaled = sc.fit_transform(training_set)\n",
        "\n",
        "# Creating a data structure with 60 time-steps and 1 output\n",
        "X_train2 = np.array([training_set_scaled[:,:][i : i + 60] for i in range(len(training_set_scaled) - 60)])\n",
        "X_train = []\n",
        "\n",
        "y_train = []\n",
        "for i in range(60, 800):\n",
        "    X_train.append(training_set_scaled[i-60 : i, 0])\n",
        "    y_train.append(training_set_scaled[i, 0])\n",
        "\n",
        "# [10, 20, 3, 40, 50, 60, 70, 80]\n",
        "# timestamps = 3\n",
        "# r1 = [10, 20, 30] -> y_1 = 40\n",
        "# r2 = [20, 30, 40] -> y_2 = 50\n",
        "# r3 = [30, 40, 50] -> y_3 = 60 and so on..\n",
        "\n",
        "X_train, y_train = np.array(X_train), np.array(y_train)\n",
        "# [samples, timestamps, features]\n",
        "X_train = np.reshape(X_train, (X_train.shape[0], X_train.shape[1], 1))\n",
        "\n",
        "print(X_train.shape)\n",
        "print(X_train2.shape)\n",
        "print(y_train.shape)\n",
        "# #print(X_train[0])\n",
        "# #(740, 60, 1)"
      ],
      "execution_count": 99,
      "outputs": [
        {
          "output_type": "stream",
          "name": "stdout",
          "text": [
            "(740, 60, 1)\n",
            "(740, 60, 1)\n",
            "(740,)\n"
          ]
        }
      ]
    },
    {
      "cell_type": "code",
      "source": [
        "X_train - X_train2 # they are the same"
      ],
      "metadata": {
        "id": "cdHzvuzjd00i"
      },
      "execution_count": null,
      "outputs": []
    },
    {
      "cell_type": "markdown",
      "metadata": {
        "id": "ZWV7oDIk9LRy"
      },
      "source": [
        "**Now, it’s time to build the model**\n",
        "\n",
        "Add LSTM layer along with dropout layers to prevent overfitting. After that, we add a Dense layer that specifies a one unit output. Next, we compile the model using the adam optimizer and set the loss as the mean_squarred_error\n"
      ]
    },
    {
      "cell_type": "code",
      "metadata": {
        "id": "4k22mQGH621n",
        "colab": {
          "base_uri": "https://localhost:8080/"
        },
        "outputId": "259c2ffa-b0b9-4a2d-e8ea-31190ae28a75"
      },
      "source": [
        "#DO with GRU also\n",
        "model = Sequential()#Adding the first LSTM layer and some Dropout regularisation\n",
        "model.add(LSTM(units = 50, return_sequences = True, input_shape = (X_train.shape[1], 1)))\n",
        "model.add(Dropout(0.2))# Adding a second LSTM layer and some Dropout regularisation\n",
        "model.add(LSTM(units = 50, return_sequences = True))\n",
        "model.add(Dropout(0.2))# Adding a third LSTM layer and some Dropout regularisation\n",
        "model.add(LSTM(units = 50, return_sequences=True))\n",
        "model.add(Dropout(0.2))# Adding a fourth LSTM layer and some Dropout regularisation\n",
        "model.add(LSTM(units = 50))\n",
        "model.add(Dropout(0.2))# Adding the output layer\n",
        "model.add(Dense(1)) # no activation because we are working with values\n",
        "\n",
        "# Compiling the LSTM\n",
        "model.compile(optimizer = 'adam', loss = 'mse')\n",
        "\n",
        "#add checkpoint to save model\n",
        "\n",
        "# Fitting the LSTM to the Training set\n",
        "model.fit(X_train, y_train, epochs = 10, batch_size = 32)"
      ],
      "execution_count": 101,
      "outputs": [
        {
          "output_type": "stream",
          "name": "stdout",
          "text": [
            "Epoch 1/10\n",
            "24/24 [==============================] - 11s 129ms/step - loss: 0.0606\n",
            "Epoch 2/10\n",
            "24/24 [==============================] - 4s 153ms/step - loss: 0.0158\n",
            "Epoch 3/10\n",
            "24/24 [==============================] - 4s 149ms/step - loss: 0.0137\n",
            "Epoch 4/10\n",
            "24/24 [==============================] - 3s 128ms/step - loss: 0.0128\n",
            "Epoch 5/10\n",
            "24/24 [==============================] - 3s 132ms/step - loss: 0.0120\n",
            "Epoch 6/10\n",
            "24/24 [==============================] - 3s 128ms/step - loss: 0.0140\n",
            "Epoch 7/10\n",
            "24/24 [==============================] - 3s 131ms/step - loss: 0.0109\n",
            "Epoch 8/10\n",
            "24/24 [==============================] - 3s 131ms/step - loss: 0.0115\n",
            "Epoch 9/10\n",
            "24/24 [==============================] - 3s 122ms/step - loss: 0.0098\n",
            "Epoch 10/10\n",
            "24/24 [==============================] - 3s 130ms/step - loss: 0.0105\n"
          ]
        },
        {
          "output_type": "execute_result",
          "data": {
            "text/plain": [
              "<keras.callbacks.History at 0x7f11f0e9c290>"
            ]
          },
          "metadata": {},
          "execution_count": 101
        }
      ]
    },
    {
      "cell_type": "markdown",
      "metadata": {
        "id": "5xs5HBNo9Pk4"
      },
      "source": [
        "**Prepare the test data (reshape them)**"
      ]
    },
    {
      "cell_type": "code",
      "metadata": {
        "id": "qYiaxyfH8Gwj",
        "colab": {
          "base_uri": "https://localhost:8080/"
        },
        "outputId": "85c3f614-ba28-49ad-d4bc-9d7ffc7bbdb2"
      },
      "source": [
        "# Getting the predicted stock price for testing\n",
        "dataset_train = df.iloc[:800, 1:2]\n",
        "dataset_train.to_csv(\"dataset_train.csv\")\n",
        "dataset_test = df.iloc[800:, 1:2]\n",
        "dataset_test.to_csv(\"dataset_test.csv\")\n",
        "\n",
        "dataset_total = pd.concat((dataset_train, dataset_test), axis = 0)\n",
        "print(dataset_total.shape)\n",
        "\n",
        "inputs = dataset_total[len(dataset_total) - len(dataset_test) -60 :].values\n",
        "inputs = inputs.reshape(-1,1)\n",
        "print(inputs.shape)\n",
        "\n",
        "inputs = sc.transform(inputs)\n",
        "X_test = []\n",
        "\n",
        "for i in range(60, 519):\n",
        "    X_test.append(inputs[i-60 : i ,0])\n",
        "\n",
        "X_test = np.array(X_test)\n",
        "X_test = np.reshape(X_test, (X_test.shape[0], X_test.shape[1], 1))\n",
        "print(X_test.shape)\n",
        "# # (459, 60, 1)"
      ],
      "execution_count": 102,
      "outputs": [
        {
          "output_type": "stream",
          "name": "stdout",
          "text": [
            "(1259, 1)\n",
            "(519, 1)\n",
            "(459, 60, 1)\n"
          ]
        }
      ]
    },
    {
      "cell_type": "markdown",
      "metadata": {
        "id": "2P00aNsC9R44"
      },
      "source": [
        "**Make Predictions using the test set**"
      ]
    },
    {
      "cell_type": "code",
      "metadata": {
        "id": "faXdcTGd8WOl",
        "colab": {
          "base_uri": "https://localhost:8080/"
        },
        "outputId": "cafe75a2-1431-471b-9489-2926ff6b99a6"
      },
      "source": [
        "predicted_stock_price = model.predict(X_test)\n",
        "print(predicted_stock_price.shape)\n",
        "predicted_stock_price = sc.inverse_transform(predicted_stock_price)\n",
        "\n",
        "print(predicted_stock_price[:3])"
      ],
      "execution_count": 103,
      "outputs": [
        {
          "output_type": "stream",
          "name": "stdout",
          "text": [
            "(459, 1)\n",
            "[[61.25789 ]\n",
            " [60.561142]\n",
            " [59.881332]]\n"
          ]
        }
      ]
    },
    {
      "cell_type": "markdown",
      "metadata": {
        "id": "u-UzRIfA9V2x"
      },
      "source": [
        "**Visualize the results**"
      ]
    },
    {
      "cell_type": "code",
      "metadata": {
        "colab": {
          "base_uri": "https://localhost:8080/",
          "height": 513
        },
        "id": "5SET9SzM8ZlS",
        "outputId": "55dce48c-aab5-4bb6-8579-5ab7231c419b"
      },
      "source": [
        "# Visualising the results\n",
        "plt.figure(figsize=(10,8))\n",
        "plt.plot(df.loc[800:, \"Date\"],dataset_test.values, color = \"red\", label = \"Real TESLA Stock Price\")\n",
        "plt.plot(df.loc[800:, \"Date\"],predicted_stock_price, color = \"blue\", label = \"Predicted TESLA Stock Price\")\n",
        "plt.xticks(np.arange(0,459,50))\n",
        "plt.title('TESLA Stock Price Prediction')\n",
        "plt.xlabel('Time')\n",
        "plt.ylabel('TESLA Stock Price')\n",
        "plt.legend()\n",
        "plt.show()"
      ],
      "execution_count": 104,
      "outputs": [
        {
          "output_type": "display_data",
          "data": {
            "text/plain": [
              "<Figure size 720x576 with 1 Axes>"
            ],
            "image/png": "[encoded data removed]"
          },
          "metadata": {
            "needs_background": "light"
          }
        }
      ]
    },
    {
      "cell_type": "markdown",
      "metadata": {
        "id": "_6Fu7Au39bKu"
      },
      "source": [
        "**Observation**: Huge drop in March 2020 due to the COVID-19 lockdown !\n",
        "\n",
        "We can clearly see that our model performed very good. It is able to accuretly follow most of the unexcepted jumps/drops however, for the most recent date stamps, we can see that the model expected (predicted) lower values compared to the real values of the stock price."
      ]
    },
    {
      "cell_type": "markdown",
      "metadata": {
        "id": "QqB5IqG5RKks"
      },
      "source": [
        "**Prepare data for a MLP model**"
      ]
    },
    {
      "cell_type": "code",
      "metadata": {
        "id": "3SxdI0QzO3pJ",
        "colab": {
          "base_uri": "https://localhost:8080/"
        },
        "outputId": "bd38eafb-8b21-4771-e75b-111cae98cf3b"
      },
      "source": [
        "# Feature Scaling\n",
        "sc = MinMaxScaler(feature_range = (0, 1))\n",
        "training_set_scaled_nn = sc.fit_transform(training_set)# Creating a data structure with 60 time-steps and 1 output\n",
        "X_train_nn = []\n",
        "y_train_nn = []\n",
        "\n",
        "for i in range(60, 800):\n",
        "    X_train_nn.append(training_set_scaled_nn[i-60:i, 0])\n",
        "    y_train_nn.append(training_set_scaled_nn[i, 0])\n",
        "\n",
        "X_train_nn, y_train_nn = np.array(X_train_nn), np.array(y_train_nn)\n",
        "\n",
        "print(X_train_nn.shape, y_train_nn.shape)\n"
      ],
      "execution_count": 105,
      "outputs": [
        {
          "output_type": "stream",
          "name": "stdout",
          "text": [
            "(740, 60) (740,)\n"
          ]
        }
      ]
    },
    {
      "cell_type": "markdown",
      "metadata": {
        "id": "ZFKume1JRiC8"
      },
      "source": [
        "**MLP model**"
      ]
    },
    {
      "cell_type": "code",
      "metadata": {
        "id": "k-1Tf4sONUTS",
        "colab": {
          "base_uri": "https://localhost:8080/"
        },
        "outputId": "8f51df84-6901-4205-c288-e418d4ada58b"
      },
      "source": [
        "model_nn = keras.Sequential()\n",
        "model_nn.add(Dense(256, activation='relu', input_dim=60)) #input_shape\n",
        "model_nn.add(Dense(512, activation='relu'))\n",
        "model_nn.add(Dense(256, activation='relu')) \n",
        "model_nn.add(Dense(128, activation='relu')) \n",
        "model_nn.add(Dense(64, activation='relu'))\n",
        "model_nn.add(Dense(1))\n",
        "\n",
        "model_nn.compile(optimizer='adam',loss='mean_squared_error')\n",
        "model_nn.summary()"
      ],
      "execution_count": 106,
      "outputs": [
        {
          "output_type": "stream",
          "name": "stdout",
          "text": [
            "Model: \"sequential_5\"\n",
            "_________________________________________________________________\n",
            " Layer (type)                Output Shape              Param #   \n",
            "=================================================================\n",
            " dense_5 (Dense)             (None, 256)               15616     \n",
            "                                                                 \n",
            " dense_6 (Dense)             (None, 512)               131584    \n",
            "                                                                 \n",
            " dense_7 (Dense)             (None, 256)               131328    \n",
            "                                                                 \n",
            " dense_8 (Dense)             (None, 128)               32896     \n",
            "                                                                 \n",
            " dense_9 (Dense)             (None, 64)                8256      \n",
            "                                                                 \n",
            " dense_10 (Dense)            (None, 1)                 65        \n",
            "                                                                 \n",
            "=================================================================\n",
            "Total params: 319,745\n",
            "Trainable params: 319,745\n",
            "Non-trainable params: 0\n",
            "_________________________________________________________________\n"
          ]
        }
      ]
    },
    {
      "cell_type": "code",
      "metadata": {
        "id": "TNug_mzaNkFd",
        "colab": {
          "base_uri": "https://localhost:8080/"
        },
        "outputId": "251da5d6-1c97-464a-f879-30f12639d8ed"
      },
      "source": [
        "model_nn.fit(X_train_nn,y_train_nn,epochs=10,batch_size=32)"
      ],
      "execution_count": 107,
      "outputs": [
        {
          "output_type": "stream",
          "name": "stdout",
          "text": [
            "Epoch 1/10\n",
            "24/24 [==============================] - 1s 6ms/step - loss: 0.0251\n",
            "Epoch 2/10\n",
            "24/24 [==============================] - 0s 6ms/step - loss: 0.0083\n",
            "Epoch 3/10\n",
            "24/24 [==============================] - 0s 7ms/step - loss: 0.0046\n",
            "Epoch 4/10\n",
            "24/24 [==============================] - 0s 8ms/step - loss: 0.0044\n",
            "Epoch 5/10\n",
            "24/24 [==============================] - 0s 8ms/step - loss: 0.0027\n",
            "Epoch 6/10\n",
            "24/24 [==============================] - 0s 8ms/step - loss: 0.0027\n",
            "Epoch 7/10\n",
            "24/24 [==============================] - 0s 7ms/step - loss: 0.0023\n",
            "Epoch 8/10\n",
            "24/24 [==============================] - 0s 7ms/step - loss: 0.0035\n",
            "Epoch 9/10\n",
            "24/24 [==============================] - 0s 6ms/step - loss: 0.0019\n",
            "Epoch 10/10\n",
            "24/24 [==============================] - 0s 7ms/step - loss: 0.0025\n"
          ]
        },
        {
          "output_type": "execute_result",
          "data": {
            "text/plain": [
              "<keras.callbacks.History at 0x7f11f0a19c50>"
            ]
          },
          "metadata": {},
          "execution_count": 107
        }
      ]
    },
    {
      "cell_type": "markdown",
      "metadata": {
        "id": "zdrIP07mRoKe"
      },
      "source": [
        "**Prepare test set for MLP model**"
      ]
    },
    {
      "cell_type": "code",
      "metadata": {
        "id": "Wl3-pa_IPENa",
        "colab": {
          "base_uri": "https://localhost:8080/"
        },
        "outputId": "7988d1ea-5976-4a53-b379-7ddaa7f85104"
      },
      "source": [
        "# Getting the predicted stock price of 2017\n",
        "dataset_train = df.iloc[:800, 1:2]\n",
        "dataset_test = df.iloc[800:, 1:2]\n",
        "dataset_total = pd.concat((dataset_train, dataset_test), axis = 0)\n",
        "inputs = dataset_total[len(dataset_total) - len(dataset_test) - 60:].values\n",
        "inputs = inputs.reshape(-1,1)\n",
        "inputs = sc.transform(inputs)\n",
        "X_test_nn = []\n",
        "for i in range(60, 519):\n",
        "    X_test_nn.append(inputs[i-60:i, 0])\n",
        "X_test_nn = np.array(X_test_nn)\n",
        "\n",
        "print(X_test_nn.shape)"
      ],
      "execution_count": 108,
      "outputs": [
        {
          "output_type": "stream",
          "name": "stdout",
          "text": [
            "(459, 60)\n"
          ]
        }
      ]
    },
    {
      "cell_type": "code",
      "metadata": {
        "id": "-xztuG6jOi87",
        "colab": {
          "base_uri": "https://localhost:8080/"
        },
        "outputId": "1a507af6-c70b-472d-9fae-4ff7163b86dd"
      },
      "source": [
        "predicted_stock_price_nn_init = model_nn.predict(X_test_nn)\n",
        "predicted_stock_price_nn = sc.inverse_transform(predicted_stock_price_nn_init)\n",
        "\n",
        "print(predicted_stock_price_nn[:3])"
      ],
      "execution_count": 109,
      "outputs": [
        {
          "output_type": "stream",
          "name": "stdout",
          "text": [
            "[[50.25243 ]\n",
            " [50.117752]\n",
            " [51.31677 ]]\n"
          ]
        }
      ]
    },
    {
      "cell_type": "markdown",
      "metadata": {
        "id": "sRXafjjhRyER"
      },
      "source": [
        "**Visualize the results**"
      ]
    },
    {
      "cell_type": "code",
      "metadata": {
        "id": "YPUQYaOIPJNl",
        "colab": {
          "base_uri": "https://localhost:8080/",
          "height": 513
        },
        "outputId": "0f2b7d75-1711-4e79-f24b-ecb4929a31e0"
      },
      "source": [
        "# Visualising the results\n",
        "plt.figure(figsize=(10,8))\n",
        "plt.plot(df.loc[800:, \"Date\"],dataset_test.values, color = \"red\", label = \"Real TESLA Stock Price\")\n",
        "plt.plot(df.loc[800:, \"Date\"],predicted_stock_price_nn, color = \"blue\", label = \"Predicted TESLA Stock Price\")\n",
        "plt.xticks(np.arange(0,459,50))\n",
        "plt.title('TESLA Stock Price Prediction')\n",
        "plt.xlabel('Time')\n",
        "plt.ylabel('TESLA Stock Price')\n",
        "plt.legend()\n",
        "plt.show()"
      ],
      "execution_count": 110,
      "outputs": [
        {
          "output_type": "display_data",
          "data": {
            "text/plain": [
              "<Figure size 720x576 with 1 Axes>"
            ],
            "image/png": "[encoded data removed]"
          },
          "metadata": {
            "needs_background": "light"
          }
        }
      ]
    },
    {
      "cell_type": "markdown",
      "metadata": {
        "id": "noVAIMWpSnBA"
      },
      "source": [
        "**Multi step predictions**"
      ]
    },
    {
      "cell_type": "markdown",
      "metadata": {
        "id": "_uW1qiCl_dHK"
      },
      "source": [
        "\n",
        "[10, 20, 30, 40, 50, 60, 70, 80, 90]\n",
        "\n",
        "input : [10,20,30]\n",
        "output: [40,50]"
      ]
    },
    {
      "cell_type": "code",
      "metadata": {
        "id": "lDhRFmdy_krq",
        "colab": {
          "base_uri": "https://localhost:8080/"
        },
        "outputId": "cf5eba0d-51bf-4b12-c58f-89bef8330db1"
      },
      "source": [
        "# Feature Scaling\n",
        "sc = MinMaxScaler(feature_range = (0, 1))\n",
        "training_set_scaled = sc.fit_transform(training_set)# Creating a data structure with 60 time-steps and 2 steps into the future\n",
        "X_train = []\n",
        "y_train = []\n",
        "\n",
        "for i in range(60, 800-2):\n",
        "    X_train.append(training_set_scaled[i-60:i, 0])\n",
        "    y_train.append(training_set_scaled[i: i+2, 0])\n",
        "\n",
        "X_train, y_train = np.array(X_train), np.array(y_train)\n",
        "X_train = np.reshape(X_train, (X_train.shape[0], X_train.shape[1], 1))\n",
        "\n",
        "print(y_train[0])\n",
        "print(X_train.shape[0], X_train.shape[1], X_train.shape[2])"
      ],
      "execution_count": 111,
      "outputs": [
        {
          "output_type": "stream",
          "name": "stdout",
          "text": [
            "[0.43589644 0.39972175]\n",
            "738 60 1\n"
          ]
        }
      ]
    },
    {
      "cell_type": "code",
      "metadata": {
        "id": "Le9vINbMAaoQ",
        "colab": {
          "base_uri": "https://localhost:8080/"
        },
        "outputId": "11aeb8a9-b9a4-4e6c-da50-39b89f8a9e18"
      },
      "source": [
        "model = Sequential()#Adding the first LSTM layer and some Dropout regularisation \n",
        "model.add(LSTM(units = 50, return_sequences = True, input_shape = (X_train.shape[1], 1)))       #n_features is still 1. each time time is represented by 1 number only\n",
        "                                                                                                #n_steps_in = X_train.shape[1]\n",
        "\n",
        "model.add(Dropout(0.2))# Adding a second LSTM layer and some Dropout regularisation\n",
        "model.add(LSTM(units = 50, return_sequences = True))\n",
        "model.add(Dropout(0.2))# Adding a third LSTM layer and some Dropout regularisation\n",
        "model.add(LSTM(units = 50, return_sequences = True))\n",
        "model.add(Dropout(0.2))# Adding a fourth LSTM layer and some Dropout regularisation\n",
        "model.add(LSTM(units = 50))\n",
        "model.add(Dropout(0.2))# Adding the output layer\n",
        "model.add(Dense(2)) #n_steps_out = 2 \n",
        "\n",
        "# Compiling the LSTM\n",
        "model.compile(optimizer = 'adam', loss = 'mean_squared_error')\n",
        "\n",
        "# Fitting the LSTM to the Training set\n",
        "model.fit(X_train, y_train, epochs = 10, batch_size = 32)"
      ],
      "execution_count": 113,
      "outputs": [
        {
          "output_type": "stream",
          "name": "stdout",
          "text": [
            "Epoch 1/10\n",
            "24/24 [==============================] - 12s 132ms/step - loss: 0.0778\n",
            "Epoch 2/10\n",
            "24/24 [==============================] - 3s 132ms/step - loss: 0.0198\n",
            "Epoch 3/10\n",
            "24/24 [==============================] - 4s 150ms/step - loss: 0.0157\n",
            "Epoch 4/10\n",
            "24/24 [==============================] - 4s 148ms/step - loss: 0.0151\n",
            "Epoch 5/10\n",
            "24/24 [==============================] - 3s 122ms/step - loss: 0.0142\n",
            "Epoch 6/10\n",
            "24/24 [==============================] - 3s 134ms/step - loss: 0.0133\n",
            "Epoch 7/10\n",
            "24/24 [==============================] - 3s 139ms/step - loss: 0.0136\n",
            "Epoch 8/10\n",
            "24/24 [==============================] - 3s 145ms/step - loss: 0.0132\n",
            "Epoch 9/10\n",
            "24/24 [==============================] - 3s 138ms/step - loss: 0.0116\n",
            "Epoch 10/10\n",
            "24/24 [==============================] - 3s 143ms/step - loss: 0.0126\n"
          ]
        },
        {
          "output_type": "execute_result",
          "data": {
            "text/plain": [
              "<keras.callbacks.History at 0x7f11ec2b92d0>"
            ]
          },
          "metadata": {},
          "execution_count": 113
        }
      ]
    },
    {
      "cell_type": "markdown",
      "metadata": {
        "id": "itsm9w0TTr8J"
      },
      "source": [
        "**Prepare the test set**"
      ]
    },
    {
      "cell_type": "code",
      "metadata": {
        "id": "sWBbLslyBdBF",
        "colab": {
          "base_uri": "https://localhost:8080/"
        },
        "outputId": "0519b15b-f786-4cc5-99ce-b20af35c0e87"
      },
      "source": [
        "# Getting the predicted stock price of 2017\n",
        "dataset_train = df.iloc[:800, 1:2]\n",
        "dataset_test = df.iloc[800:, 1:2]\n",
        "dataset_total = pd.concat((dataset_train, dataset_test), axis = 0)\n",
        "inputs = dataset_total[len(dataset_total) - len(dataset_test) - 60:].values\n",
        "inputs = inputs.reshape(-1,1)\n",
        "inputs = sc.transform(inputs)\n",
        "X_test = []\n",
        "for i in range(60, 519):\n",
        "    X_test.append(inputs[i-60:i, 0])\n",
        "X_test = np.array(X_test)\n",
        "X_test = np.reshape(X_test, (X_test.shape[0], X_test.shape[1], 1))\n",
        "print(X_test.shape)\n",
        "# (459, 60, 1)"
      ],
      "execution_count": 114,
      "outputs": [
        {
          "output_type": "stream",
          "name": "stdout",
          "text": [
            "(459, 60, 1)\n"
          ]
        }
      ]
    },
    {
      "cell_type": "markdown",
      "metadata": {
        "id": "L6skc61ZTvh1"
      },
      "source": [
        "**Make predictions**"
      ]
    },
    {
      "cell_type": "code",
      "metadata": {
        "id": "C5CEcSD_BzxM",
        "colab": {
          "base_uri": "https://localhost:8080/"
        },
        "outputId": "3e25ffb1-a2fe-44d0-f377-71cd75c6692f"
      },
      "source": [
        "predicted_stock_price = model.predict(X_test)\n",
        "predicted_stock_price = sc.inverse_transform(predicted_stock_price)\n",
        "\n",
        "print(predicted_stock_price.shape)\n",
        "print(predicted_stock_price[:3])"
      ],
      "execution_count": 115,
      "outputs": [
        {
          "output_type": "stream",
          "name": "stdout",
          "text": [
            "(459, 2)\n",
            "[[58.401924 59.645824]\n",
            " [57.76279  59.001152]\n",
            " [57.131466 58.355312]]\n"
          ]
        }
      ]
    },
    {
      "cell_type": "markdown",
      "metadata": {
        "id": "BeH5AP_NTyFt"
      },
      "source": [
        "**Visualize the results**"
      ]
    },
    {
      "cell_type": "code",
      "metadata": {
        "id": "MQ0VfT_uChLo",
        "colab": {
          "base_uri": "https://localhost:8080/",
          "height": 513
        },
        "outputId": "3ea736ba-929e-4389-90a5-bc01f13470ad"
      },
      "source": [
        "# Visualising the results\n",
        "plt.figure(figsize=(10,8))\n",
        "plt.plot(df.loc[800:, \"Date\"],dataset_test.values, color = \"red\", label = \"Real TESLA Stock Price\")\n",
        "plt.plot(df.loc[800:, \"Date\"],predicted_stock_price[:,0], color = \"blue\", label = \"Predicted TESLA Stock Price\")\n",
        "plt.plot(df.loc[800:, \"Date\"],predicted_stock_price[:,1], color = \"green\", label = \"Predicted TESLA Stock Price\")\n",
        "\n",
        "plt.xticks(np.arange(0,459,50))\n",
        "plt.title('TESLA Stock Price Prediction')\n",
        "plt.xlabel('Time')\n",
        "plt.ylabel('TESLA Stock Price')\n",
        "plt.legend()\n",
        "plt.show()"
      ],
      "execution_count": 116,
      "outputs": [
        {
          "output_type": "display_data",
          "data": {
            "text/plain": [
              "<Figure size 720x576 with 1 Axes>"
            ],
            "image/png": "[encoded data removed]"
          },
          "metadata": {
            "needs_background": "light"
          }
        }
      ]
    },
    {
      "cell_type": "markdown",
      "metadata": {
        "id": "2e-8MG5WT1cC"
      },
      "source": [
        "**Multivariate**"
      ]
    },
    {
      "cell_type": "code",
      "metadata": {
        "colab": {
          "base_uri": "https://localhost:8080/",
          "height": 206
        },
        "id": "D8shYrFPVoGp",
        "outputId": "cab4144c-9a46-4983-b4b9-0a8673cbbc67"
      },
      "source": [
        "#multivariate\n",
        "df.head()"
      ],
      "execution_count": 117,
      "outputs": [
        {
          "output_type": "execute_result",
          "data": {
            "text/plain": [
              "         Date       Open       High        Low      Close  Adj Close    Volume\n",
              "0  2015-07-10  52.444000  52.599998  51.563999  51.830002  51.830002  13054500\n",
              "1  2015-07-13  52.450001  52.509998  51.209999  52.431999  52.431999  14801500\n",
              "2  2015-07-14  52.419998  53.198002  52.102001  53.130001  53.130001   9538000\n",
              "3  2015-07-15  53.348000  53.498001  52.416000  52.627998  52.627998  10108000\n",
              "4  2015-07-16  52.844002  53.439999  52.632000  53.335999  53.335999   8080000"
            ],
            "text/html": [
              "\n",
              "  <div id=\"df-dd58d59a-59ae-4513-b1c3-b5acce13f4c3\">\n",
              "    <div class=\"colab-df-container\">\n",
              "      <div>\n",
              "<style scoped>\n",
              "    .dataframe tbody tr th:only-of-type {\n",
              "        vertical-align: middle;\n",
              "    }\n",
              "\n",
              "    .dataframe tbody tr th {\n",
              "        vertical-align: top;\n",
              "    }\n",
              "\n",
              "    .dataframe thead th {\n",
              "        text-align: right;\n",
              "    }\n",
              "</style>\n",
              "<table border=\"1\" class=\"dataframe\">\n",
              "  <thead>\n",
              "    <tr style=\"text-align: right;\">\n",
              "      <th></th>\n",
              "      <th>Date</th>\n",
              "      <th>Open</th>\n",
              "      <th>High</th>\n",
              "      <th>Low</th>\n",
              "      <th>Close</th>\n",
              "      <th>Adj Close</th>\n",
              "      <th>Volume</th>\n",
              "    </tr>\n",
              "  </thead>\n",
              "  <tbody>\n",
              "    <tr>\n",
              "      <th>0</th>\n",
              "      <td>2015-07-10</td>\n",
              "      <td>52.444000</td>\n",
              "      <td>52.599998</td>\n",
              "      <td>51.563999</td>\n",
              "      <td>51.830002</td>\n",
              "      <td>51.830002</td>\n",
              "      <td>13054500</td>\n",
              "    </tr>\n",
              "    <tr>\n",
              "      <th>1</th>\n",
              "      <td>2015-07-13</td>\n",
              "      <td>52.450001</td>\n",
              "      <td>52.509998</td>\n",
              "      <td>51.209999</td>\n",
              "      <td>52.431999</td>\n",
              "      <td>52.431999</td>\n",
              "      <td>14801500</td>\n",
              "    </tr>\n",
              "    <tr>\n",
              "      <th>2</th>\n",
              "      <td>2015-07-14</td>\n",
              "      <td>52.419998</td>\n",
              "      <td>53.198002</td>\n",
              "      <td>52.102001</td>\n",
              "      <td>53.130001</td>\n",
              "      <td>53.130001</td>\n",
              "      <td>9538000</td>\n",
              "    </tr>\n",
              "    <tr>\n",
              "      <th>3</th>\n",
              "      <td>2015-07-15</td>\n",
              "      <td>53.348000</td>\n",
              "      <td>53.498001</td>\n",
              "      <td>52.416000</td>\n",
              "      <td>52.627998</td>\n",
              "      <td>52.627998</td>\n",
              "      <td>10108000</td>\n",
              "    </tr>\n",
              "    <tr>\n",
              "      <th>4</th>\n",
              "      <td>2015-07-16</td>\n",
              "      <td>52.844002</td>\n",
              "      <td>53.439999</td>\n",
              "      <td>52.632000</td>\n",
              "      <td>53.335999</td>\n",
              "      <td>53.335999</td>\n",
              "      <td>8080000</td>\n",
              "    </tr>\n",
              "  </tbody>\n",
              "</table>\n",
              "</div>\n",
              "      <button class=\"colab-df-convert\" onclick=\"convertToInteractive('df-dd58d59a-59ae-4513-b1c3-b5acce13f4c3')\"\n",
              "              title=\"Convert this dataframe to an interactive table.\"\n",
              "              style=\"display:none;\">\n",
              "        \n",
              "  <svg xmlns=\"http://www.w3.org/2000/svg\" height=\"24px\"viewBox=\"0 0 24 24\"\n",
              "       width=\"24px\">\n",
              "    <path d=\"M0 0h24v24H0V0z\" fill=\"none\"/>\n",
              "    <path d=\"M18.56 5.44l.94 2.06.94-2.06 2.06-.94-2.06-.94-.94-2.06-.94 2.06-2.06.94zm-11 1L8.5 8.5l.94-2.06 2.06-.94-2.06-.94L8.5 2.5l-.94 2.06-2.06.94zm10 10l.94 2.06.94-2.06 2.06-.94-2.06-.94-.94-2.06-.94 2.06-2.06.94z\"/><path d=\"M17.41 7.96l-1.37-1.37c-.4-.4-.92-.59-1.43-.59-.52 0-1.04.2-1.43.59L10.3 9.45l-7.72 7.72c-.78.78-.78 2.05 0 2.83L4 21.41c.39.39.9.59 1.41.59.51 0 1.02-.2 1.41-.59l7.78-7.78 2.81-2.81c.8-.78.8-2.07 0-2.86zM5.41 20L4 18.59l7.72-7.72 1.47 1.35L5.41 20z\"/>\n",
              "  </svg>\n",
              "      </button>\n",
              "      \n",
              "  <style>\n",
              "    .colab-df-container {\n",
              "      display:flex;\n",
              "      flex-wrap:wrap;\n",
              "      gap: 12px;\n",
              "    }\n",
              "\n",
              "    .colab-df-convert {\n",
              "      background-color: #E8F0FE;\n",
              "      border: none;\n",
              "      border-radius: 50%;\n",
              "      cursor: pointer;\n",
              "      display: none;\n",
              "      fill: #1967D2;\n",
              "      height: 32px;\n",
              "      padding: 0 0 0 0;\n",
              "      width: 32px;\n",
              "    }\n",
              "\n",
              "    .colab-df-convert:hover {\n",
              "      background-color: #E2EBFA;\n",
              "      box-shadow: 0px 1px 2px rgba(60, 64, 67, 0.3), 0px 1px 3px 1px rgba(60, 64, 67, 0.15);\n",
              "      fill: #174EA6;\n",
              "    }\n",
              "\n",
              "    [theme=dark] .colab-df-convert {\n",
              "      background-color: #3B4455;\n",
              "      fill: #D2E3FC;\n",
              "    }\n",
              "\n",
              "    [theme=dark] .colab-df-convert:hover {\n",
              "      background-color: #434B5C;\n",
              "      box-shadow: 0px 1px 3px 1px rgba(0, 0, 0, 0.15);\n",
              "      filter: drop-shadow(0px 1px 2px rgba(0, 0, 0, 0.3));\n",
              "      fill: #FFFFFF;\n",
              "    }\n",
              "  </style>\n",
              "\n",
              "      <script>\n",
              "        const buttonEl =\n",
              "          document.querySelector('#df-dd58d59a-59ae-4513-b1c3-b5acce13f4c3 button.colab-df-convert');\n",
              "        buttonEl.style.display =\n",
              "          google.colab.kernel.accessAllowed ? 'block' : 'none';\n",
              "\n",
              "        async function convertToInteractive(key) {\n",
              "          const element = document.querySelector('#df-dd58d59a-59ae-4513-b1c3-b5acce13f4c3');\n",
              "          const dataTable =\n",
              "            await google.colab.kernel.invokeFunction('convertToInteractive',\n",
              "                                                     [key], {});\n",
              "          if (!dataTable) return;\n",
              "\n",
              "          const docLinkHtml = 'Like what you see? Visit the ' +\n",
              "            '<a target=\"_blank\" href=https://colab.research.google.com/notebooks/data_table.ipynb>data table notebook</a>'\n",
              "            + ' to learn more about interactive tables.';\n",
              "          element.innerHTML = '';\n",
              "          dataTable['output_type'] = 'display_data';\n",
              "          await google.colab.output.renderOutput(dataTable, element);\n",
              "          const docLink = document.createElement('div');\n",
              "          docLink.innerHTML = docLinkHtml;\n",
              "          element.appendChild(docLink);\n",
              "        }\n",
              "      </script>\n",
              "    </div>\n",
              "  </div>\n",
              "  "
            ]
          },
          "metadata": {},
          "execution_count": 117
        }
      ]
    },
    {
      "cell_type": "code",
      "metadata": {
        "colab": {
          "base_uri": "https://localhost:8080/",
          "height": 206
        },
        "id": "JLZGzDnqV4TG",
        "outputId": "a33b11a9-d6a9-48e9-ef4f-14194c3267e6"
      },
      "source": [
        "df[\"average\"] = (df[\"High\"] + df[\"Low\"])/2\n",
        "df.head()"
      ],
      "execution_count": 118,
      "outputs": [
        {
          "output_type": "execute_result",
          "data": {
            "text/plain": [
              "         Date       Open       High        Low      Close  Adj Close  \\\n",
              "0  2015-07-10  52.444000  52.599998  51.563999  51.830002  51.830002   \n",
              "1  2015-07-13  52.450001  52.509998  51.209999  52.431999  52.431999   \n",
              "2  2015-07-14  52.419998  53.198002  52.102001  53.130001  53.130001   \n",
              "3  2015-07-15  53.348000  53.498001  52.416000  52.627998  52.627998   \n",
              "4  2015-07-16  52.844002  53.439999  52.632000  53.335999  53.335999   \n",
              "\n",
              "     Volume    average  \n",
              "0  13054500  52.081998  \n",
              "1  14801500  51.859999  \n",
              "2   9538000  52.650002  \n",
              "3  10108000  52.957000  \n",
              "4   8080000  53.036000  "
            ],
            "text/html": [
              "\n",
              "  <div id=\"df-eefd3675-f32d-4669-a384-67f5a890450f\">\n",
              "    <div class=\"colab-df-container\">\n",
              "      <div>\n",
              "<style scoped>\n",
              "    .dataframe tbody tr th:only-of-type {\n",
              "        vertical-align: middle;\n",
              "    }\n",
              "\n",
              "    .dataframe tbody tr th {\n",
              "        vertical-align: top;\n",
              "    }\n",
              "\n",
              "    .dataframe thead th {\n",
              "        text-align: right;\n",
              "    }\n",
              "</style>\n",
              "<table border=\"1\" class=\"dataframe\">\n",
              "  <thead>\n",
              "    <tr style=\"text-align: right;\">\n",
              "      <th></th>\n",
              "      <th>Date</th>\n",
              "      <th>Open</th>\n",
              "      <th>High</th>\n",
              "      <th>Low</th>\n",
              "      <th>Close</th>\n",
              "      <th>Adj Close</th>\n",
              "      <th>Volume</th>\n",
              "      <th>average</th>\n",
              "    </tr>\n",
              "  </thead>\n",
              "  <tbody>\n",
              "    <tr>\n",
              "      <th>0</th>\n",
              "      <td>2015-07-10</td>\n",
              "      <td>52.444000</td>\n",
              "      <td>52.599998</td>\n",
              "      <td>51.563999</td>\n",
              "      <td>51.830002</td>\n",
              "      <td>51.830002</td>\n",
              "      <td>13054500</td>\n",
              "      <td>52.081998</td>\n",
              "    </tr>\n",
              "    <tr>\n",
              "      <th>1</th>\n",
              "      <td>2015-07-13</td>\n",
              "      <td>52.450001</td>\n",
              "      <td>52.509998</td>\n",
              "      <td>51.209999</td>\n",
              "      <td>52.431999</td>\n",
              "      <td>52.431999</td>\n",
              "      <td>14801500</td>\n",
              "      <td>51.859999</td>\n",
              "    </tr>\n",
              "    <tr>\n",
              "      <th>2</th>\n",
              "      <td>2015-07-14</td>\n",
              "      <td>52.419998</td>\n",
              "      <td>53.198002</td>\n",
              "      <td>52.102001</td>\n",
              "      <td>53.130001</td>\n",
              "      <td>53.130001</td>\n",
              "      <td>9538000</td>\n",
              "      <td>52.650002</td>\n",
              "    </tr>\n",
              "    <tr>\n",
              "      <th>3</th>\n",
              "      <td>2015-07-15</td>\n",
              "      <td>53.348000</td>\n",
              "      <td>53.498001</td>\n",
              "      <td>52.416000</td>\n",
              "      <td>52.627998</td>\n",
              "      <td>52.627998</td>\n",
              "      <td>10108000</td>\n",
              "      <td>52.957000</td>\n",
              "    </tr>\n",
              "    <tr>\n",
              "      <th>4</th>\n",
              "      <td>2015-07-16</td>\n",
              "      <td>52.844002</td>\n",
              "      <td>53.439999</td>\n",
              "      <td>52.632000</td>\n",
              "      <td>53.335999</td>\n",
              "      <td>53.335999</td>\n",
              "      <td>8080000</td>\n",
              "      <td>53.036000</td>\n",
              "    </tr>\n",
              "  </tbody>\n",
              "</table>\n",
              "</div>\n",
              "      <button class=\"colab-df-convert\" onclick=\"convertToInteractive('df-eefd3675-f32d-4669-a384-67f5a890450f')\"\n",
              "              title=\"Convert this dataframe to an interactive table.\"\n",
              "              style=\"display:none;\">\n",
              "        \n",
              "  <svg xmlns=\"http://www.w3.org/2000/svg\" height=\"24px\"viewBox=\"0 0 24 24\"\n",
              "       width=\"24px\">\n",
              "    <path d=\"M0 0h24v24H0V0z\" fill=\"none\"/>\n",
              "    <path d=\"M18.56 5.44l.94 2.06.94-2.06 2.06-.94-2.06-.94-.94-2.06-.94 2.06-2.06.94zm-11 1L8.5 8.5l.94-2.06 2.06-.94-2.06-.94L8.5 2.5l-.94 2.06-2.06.94zm10 10l.94 2.06.94-2.06 2.06-.94-2.06-.94-.94-2.06-.94 2.06-2.06.94z\"/><path d=\"M17.41 7.96l-1.37-1.37c-.4-.4-.92-.59-1.43-.59-.52 0-1.04.2-1.43.59L10.3 9.45l-7.72 7.72c-.78.78-.78 2.05 0 2.83L4 21.41c.39.39.9.59 1.41.59.51 0 1.02-.2 1.41-.59l7.78-7.78 2.81-2.81c.8-.78.8-2.07 0-2.86zM5.41 20L4 18.59l7.72-7.72 1.47 1.35L5.41 20z\"/>\n",
              "  </svg>\n",
              "      </button>\n",
              "      \n",
              "  <style>\n",
              "    .colab-df-container {\n",
              "      display:flex;\n",
              "      flex-wrap:wrap;\n",
              "      gap: 12px;\n",
              "    }\n",
              "\n",
              "    .colab-df-convert {\n",
              "      background-color: #E8F0FE;\n",
              "      border: none;\n",
              "      border-radius: 50%;\n",
              "      cursor: pointer;\n",
              "      display: none;\n",
              "      fill: #1967D2;\n",
              "      height: 32px;\n",
              "      padding: 0 0 0 0;\n",
              "      width: 32px;\n",
              "    }\n",
              "\n",
              "    .colab-df-convert:hover {\n",
              "      background-color: #E2EBFA;\n",
              "      box-shadow: 0px 1px 2px rgba(60, 64, 67, 0.3), 0px 1px 3px 1px rgba(60, 64, 67, 0.15);\n",
              "      fill: #174EA6;\n",
              "    }\n",
              "\n",
              "    [theme=dark] .colab-df-convert {\n",
              "      background-color: #3B4455;\n",
              "      fill: #D2E3FC;\n",
              "    }\n",
              "\n",
              "    [theme=dark] .colab-df-convert:hover {\n",
              "      background-color: #434B5C;\n",
              "      box-shadow: 0px 1px 3px 1px rgba(0, 0, 0, 0.15);\n",
              "      filter: drop-shadow(0px 1px 2px rgba(0, 0, 0, 0.3));\n",
              "      fill: #FFFFFF;\n",
              "    }\n",
              "  </style>\n",
              "\n",
              "      <script>\n",
              "        const buttonEl =\n",
              "          document.querySelector('#df-eefd3675-f32d-4669-a384-67f5a890450f button.colab-df-convert');\n",
              "        buttonEl.style.display =\n",
              "          google.colab.kernel.accessAllowed ? 'block' : 'none';\n",
              "\n",
              "        async function convertToInteractive(key) {\n",
              "          const element = document.querySelector('#df-eefd3675-f32d-4669-a384-67f5a890450f');\n",
              "          const dataTable =\n",
              "            await google.colab.kernel.invokeFunction('convertToInteractive',\n",
              "                                                     [key], {});\n",
              "          if (!dataTable) return;\n",
              "\n",
              "          const docLinkHtml = 'Like what you see? Visit the ' +\n",
              "            '<a target=\"_blank\" href=https://colab.research.google.com/notebooks/data_table.ipynb>data table notebook</a>'\n",
              "            + ' to learn more about interactive tables.';\n",
              "          element.innerHTML = '';\n",
              "          dataTable['output_type'] = 'display_data';\n",
              "          await google.colab.output.renderOutput(dataTable, element);\n",
              "          const docLink = document.createElement('div');\n",
              "          docLink.innerHTML = docLinkHtml;\n",
              "          element.appendChild(docLink);\n",
              "        }\n",
              "      </script>\n",
              "    </div>\n",
              "  </div>\n",
              "  "
            ]
          },
          "metadata": {},
          "execution_count": 118
        }
      ]
    },
    {
      "cell_type": "markdown",
      "metadata": {
        "id": "k6A0vFHQUClo"
      },
      "source": [
        "**Prepare the training data**"
      ]
    },
    {
      "cell_type": "code",
      "metadata": {
        "colab": {
          "base_uri": "https://localhost:8080/"
        },
        "id": "n1VMht0MV9af",
        "outputId": "7a5fafa4-a7cd-4b5b-9421-5e1ad19c1ed1"
      },
      "source": [
        "input_features =  df.iloc[:800,[6,7]].values\n",
        "input_features[:5]"
      ],
      "execution_count": 119,
      "outputs": [
        {
          "output_type": "execute_result",
          "data": {
            "text/plain": [
              "array([[1.30545000e+07, 5.20819985e+01],\n",
              "       [1.48015000e+07, 5.18599985e+01],\n",
              "       [9.53800000e+06, 5.26500015e+01],\n",
              "       [1.01080000e+07, 5.29570005e+01],\n",
              "       [8.08000000e+06, 5.30359995e+01]])"
            ]
          },
          "metadata": {},
          "execution_count": 119
        }
      ]
    },
    {
      "cell_type": "code",
      "metadata": {
        "colab": {
          "base_uri": "https://localhost:8080/"
        },
        "id": "-0S53hRLWwfx",
        "outputId": "a06990fa-ec34-4984-e73c-52073c49e8ab"
      },
      "source": [
        "print(input_features[:5,1])"
      ],
      "execution_count": 120,
      "outputs": [
        {
          "output_type": "stream",
          "name": "stdout",
          "text": [
            "[52.0819985 51.8599985 52.6500015 52.9570005 53.0359995]\n"
          ]
        }
      ]
    },
    {
      "cell_type": "code",
      "metadata": {
        "colab": {
          "base_uri": "https://localhost:8080/",
          "height": 295
        },
        "id": "U18NlELFWo4r",
        "outputId": "c94cd2bf-3e7b-41f8-bdc0-625cc93c8668"
      },
      "source": [
        "plt.plot(input_features[:,1], color='blue')\n",
        "plt.title(\"Google Stock Prices\")\n",
        "plt.xlabel(\"Time \")\n",
        "plt.ylabel(\"Average Price of Stocks\")\n",
        "plt.show()"
      ],
      "execution_count": 121,
      "outputs": [
        {
          "output_type": "display_data",
          "data": {
            "text/plain": [
              "<Figure size 432x288 with 1 Axes>"
            ],
            "image/png": "[encoded data removed]"
          },
          "metadata": {
            "needs_background": "light"
          }
        }
      ]
    },
    {
      "cell_type": "markdown",
      "metadata": {
        "id": "k4Xu1y1uUHBO"
      },
      "source": [
        "**Normalize**"
      ]
    },
    {
      "cell_type": "code",
      "metadata": {
        "colab": {
          "base_uri": "https://localhost:8080/"
        },
        "id": "fNhbcoP8XJjV",
        "outputId": "6b73842f-8df2-4b7e-f45f-1436c89cfd7f"
      },
      "source": [
        "from sklearn.preprocessing import MinMaxScaler\n",
        "sc= MinMaxScaler(feature_range=(0,1))\n",
        "input_features_scaled = sc.fit_transform(input_features)\n",
        "\n",
        "print(input_features_scaled[:5,1])\n",
        "input_features_scaled[:7]"
      ],
      "execution_count": 122,
      "outputs": [
        {
          "output_type": "stream",
          "name": "stdout",
          "text": [
            "[0.47624206 0.47152448 0.48831233 0.49483618 0.49651493]\n"
          ]
        },
        {
          "output_type": "execute_result",
          "data": {
            "text/plain": [
              "array([[0.06307719, 0.47624206],\n",
              "       [0.07465907, 0.47152448],\n",
              "       [0.03976425, 0.48831233],\n",
              "       [0.04354312, 0.49483618],\n",
              "       [0.03009832, 0.49651493],\n",
              "       [0.1424068 , 0.52505424],\n",
              "       [0.14155822, 0.55777978]])"
            ]
          },
          "metadata": {},
          "execution_count": 122
        }
      ]
    },
    {
      "cell_type": "markdown",
      "metadata": {
        "id": "Z4XzX0izUKCl"
      },
      "source": [
        "**Split data in sequences**"
      ]
    },
    {
      "cell_type": "code",
      "metadata": {
        "id": "zHInkWZgYJ5n"
      },
      "source": [
        "# split a multivariate sequence into samples\n",
        "def split_sequences(sequences, n_steps):\n",
        "\tX, y = list(), list()\n",
        "\tfor i in range(len(sequences)- n_steps -1):\n",
        "\t\t# find the end of this pattern\n",
        "\t\tend_ix = i + n_steps\n",
        "\t\t# check if we are beyond the dataset\n",
        "\t\tif end_ix > len(sequences):\n",
        "\t\t\tbreak\n",
        "\t\t# gather input and output parts of the pattern\n",
        "\t\tseq_x, seq_y = sequences[i:end_ix, :], sequences[end_ix, -1]\n",
        "\t\tX.append(seq_x)\n",
        "\t\ty.append(seq_y)\n",
        "\treturn np.array(X), np.array(y) \n",
        " \n",
        "X, y = split_sequences(input_features_scaled,3)"
      ],
      "execution_count": 123,
      "outputs": []
    },
    {
      "cell_type": "code",
      "metadata": {
        "colab": {
          "base_uri": "https://localhost:8080/"
        },
        "id": "czBztgWcYkUR",
        "outputId": "42998c27-1f57-42ac-8210-f06e0bb33c39"
      },
      "source": [
        "print(X[0], y[0])"
      ],
      "execution_count": 124,
      "outputs": [
        {
          "output_type": "stream",
          "name": "stdout",
          "text": [
            "[[0.06307719 0.47624206]\n",
            " [0.07465907 0.47152448]\n",
            " [0.03976425 0.48831233]] 0.49483617562543913\n"
          ]
        }
      ]
    },
    {
      "cell_type": "code",
      "metadata": {
        "colab": {
          "base_uri": "https://localhost:8080/"
        },
        "id": "0KVxWzfDfYem",
        "outputId": "6b821c1b-1f8e-4993-9a29-907f7620d4d5"
      },
      "source": [
        "print(X[1], y[1])"
      ],
      "execution_count": 125,
      "outputs": [
        {
          "output_type": "stream",
          "name": "stdout",
          "text": [
            "[[0.07465907 0.47152448]\n",
            " [0.03976425 0.48831233]\n",
            " [0.04354312 0.49483618]] 0.4965149337358694\n"
          ]
        }
      ]
    },
    {
      "cell_type": "code",
      "metadata": {
        "colab": {
          "base_uri": "https://localhost:8080/"
        },
        "id": "UtyQikzhfyxH",
        "outputId": "b7bd174d-9044-43c4-e2a0-b7288b250e08"
      },
      "source": [
        "print(X[2], y[2])"
      ],
      "execution_count": 126,
      "outputs": [
        {
          "output_type": "stream",
          "name": "stdout",
          "text": [
            "[[0.03976425 0.48831233]\n",
            " [0.04354312 0.49483618]\n",
            " [0.03009832 0.49651493]] 0.5250542359954287\n"
          ]
        }
      ]
    },
    {
      "cell_type": "markdown",
      "metadata": {
        "id": "zyeDzwr7UYr8"
      },
      "source": [
        "**Split and Reshape**"
      ]
    },
    {
      "cell_type": "code",
      "metadata": {
        "id": "hcchSjg7gYzE",
        "colab": {
          "base_uri": "https://localhost:8080/"
        },
        "outputId": "8cf4be02-594a-4521-d2e6-79186306929f"
      },
      "source": [
        "X, y = split_sequences(input_features_scaled,60)\n",
        "X, y= np.array(X), np.array(y)\n",
        "\n",
        "# X = X.reshape()\n",
        "\n",
        "print(X.shape)\n"
      ],
      "execution_count": 127,
      "outputs": [
        {
          "output_type": "stream",
          "name": "stdout",
          "text": [
            "(739, 60, 2)\n"
          ]
        }
      ]
    },
    {
      "cell_type": "markdown",
      "metadata": {
        "id": "3W8SrY3-Udbo"
      },
      "source": [
        "**Build LSTM for multivariate case**"
      ]
    },
    {
      "cell_type": "code",
      "metadata": {
        "id": "G7VL-qeYhlcC",
        "colab": {
          "base_uri": "https://localhost:8080/"
        },
        "outputId": "b0692e66-2293-44de-c5ad-3847014c0f7f"
      },
      "source": [
        "model = keras.Sequential()\n",
        "model.add(keras.layers.LSTM(units=30, return_sequences= True, input_shape=(X.shape[1], X.shape[2])))\n",
        "model.add(keras.layers.LSTM(units=30, return_sequences= True))\n",
        "model.add(keras.layers.LSTM(units=30))\n",
        "model.add(keras.layers.Dense(1))\n",
        "\n",
        "model.compile(optimizer='adam', loss='mean_squared_error')\n",
        "model.summary()\n",
        "model.fit(X, y, epochs=20, batch_size=32)"
      ],
      "execution_count": 129,
      "outputs": [
        {
          "output_type": "stream",
          "name": "stdout",
          "text": [
            "Model: \"sequential_8\"\n",
            "_________________________________________________________________\n",
            " Layer (type)                Output Shape              Param #   \n",
            "=================================================================\n",
            " lstm_27 (LSTM)              (None, 60, 30)            3960      \n",
            "                                                                 \n",
            " lstm_28 (LSTM)              (None, 60, 30)            7320      \n",
            "                                                                 \n",
            " lstm_29 (LSTM)              (None, 30)                7320      \n",
            "                                                                 \n",
            " dense_13 (Dense)            (None, 1)                 31        \n",
            "                                                                 \n",
            "=================================================================\n",
            "Total params: 18,631\n",
            "Trainable params: 18,631\n",
            "Non-trainable params: 0\n",
            "_________________________________________________________________\n",
            "Epoch 1/20\n",
            "24/24 [==============================] - 8s 76ms/step - loss: 0.0577\n",
            "Epoch 2/20\n",
            "24/24 [==============================] - 2s 75ms/step - loss: 0.0106\n",
            "Epoch 3/20\n",
            "24/24 [==============================] - 3s 118ms/step - loss: 0.0084\n",
            "Epoch 4/20\n",
            "24/24 [==============================] - 3s 115ms/step - loss: 0.0083\n",
            "Epoch 5/20\n",
            "24/24 [==============================] - 3s 112ms/step - loss: 0.0078\n",
            "Epoch 6/20\n",
            "24/24 [==============================] - 2s 82ms/step - loss: 0.0076\n",
            "Epoch 7/20\n",
            "24/24 [==============================] - 3s 116ms/step - loss: 0.0073\n",
            "Epoch 8/20\n",
            "24/24 [==============================] - 3s 111ms/step - loss: 0.0068\n",
            "Epoch 9/20\n",
            "24/24 [==============================] - 3s 106ms/step - loss: 0.0067\n",
            "Epoch 10/20\n",
            "24/24 [==============================] - 2s 74ms/step - loss: 0.0065\n",
            "Epoch 11/20\n",
            "24/24 [==============================] - 2s 75ms/step - loss: 0.0074\n",
            "Epoch 12/20\n",
            "24/24 [==============================] - 2s 84ms/step - loss: 0.0060\n",
            "Epoch 13/20\n",
            "24/24 [==============================] - 3s 131ms/step - loss: 0.0056\n",
            "Epoch 14/20\n",
            "24/24 [==============================] - 3s 140ms/step - loss: 0.0069\n",
            "Epoch 15/20\n",
            "24/24 [==============================] - 2s 81ms/step - loss: 0.0056\n",
            "Epoch 16/20\n",
            "24/24 [==============================] - 2s 74ms/step - loss: 0.0050\n",
            "Epoch 17/20\n",
            "24/24 [==============================] - 2s 75ms/step - loss: 0.0046\n",
            "Epoch 18/20\n",
            "24/24 [==============================] - 2s 74ms/step - loss: 0.0045\n",
            "Epoch 19/20\n",
            "24/24 [==============================] - 2s 74ms/step - loss: 0.0041\n",
            "Epoch 20/20\n",
            "24/24 [==============================] - 2s 76ms/step - loss: 0.0041\n"
          ]
        },
        {
          "output_type": "execute_result",
          "data": {
            "text/plain": [
              "<keras.callbacks.History at 0x7f11eb6184d0>"
            ]
          },
          "metadata": {},
          "execution_count": 129
        }
      ]
    },
    {
      "cell_type": "markdown",
      "metadata": {
        "id": "1y0GT4VhUsIi"
      },
      "source": [
        "**Prepare testing set**"
      ]
    },
    {
      "cell_type": "code",
      "metadata": {
        "colab": {
          "base_uri": "https://localhost:8080/"
        },
        "id": "ovf-M6Syh9XK",
        "outputId": "e1ca972a-1188-4465-a997-781d984a2dfc"
      },
      "source": [
        "input_features_test =  df.iloc[800:,[6,7]].values\n",
        "input_features_test[:5]\n",
        "#normalization\n",
        "from sklearn.preprocessing import MinMaxScaler\n",
        "sc= MinMaxScaler(feature_range=(0,1))\n",
        "input_features_test_scaled = sc.fit_transform(input_features_test)\n",
        "\n",
        "print(input_features_test_scaled[:5,1])\n",
        "input_features_test_scaled[:7]\n",
        "\n",
        "X_test, y_test = split_sequences(input_features_test_scaled,60)\n",
        "print(X_test.shape, y_test.shape)\n",
        "\n",
        "predicted_value= model.predict(X_test)"
      ],
      "execution_count": 130,
      "outputs": [
        {
          "output_type": "stream",
          "name": "stdout",
          "text": [
            "[0.08635861 0.09011713 0.09164468 0.09378824 0.08926802]\n",
            "(398, 60, 2) (398,)\n"
          ]
        }
      ]
    },
    {
      "cell_type": "markdown",
      "metadata": {
        "id": "KbKhT8DSVB_C"
      },
      "source": [
        "**Visualize**"
      ]
    },
    {
      "cell_type": "code",
      "metadata": {
        "colab": {
          "base_uri": "https://localhost:8080/",
          "height": 295
        },
        "id": "-wzOWNj1iff8",
        "outputId": "4965e8ef-39c9-44e0-c9d4-5544b9354040"
      },
      "source": [
        "plt.plot(predicted_value, color= 'red')\n",
        "plt.plot(y_test, color='green')\n",
        "plt.title(\" price of stocks sold\")\n",
        "plt.xlabel(\"Time \")\n",
        "plt.ylabel(\"Stock  Price\")\n",
        "plt.show()"
      ],
      "execution_count": 131,
      "outputs": [
        {
          "output_type": "display_data",
          "data": {
            "text/plain": [
              "<Figure size 432x288 with 1 Axes>"
            ],
            "image/png": "[encoded data removed]"
          },
          "metadata": {
            "needs_background": "light"
          }
        }
      ]
    },
    {
      "cell_type": "markdown",
      "metadata": {
        "id": "_w5cYlmdVKNg"
      },
      "source": [
        "**Multivariate multistep: to do as homework**"
      ]
    }
  ]
}