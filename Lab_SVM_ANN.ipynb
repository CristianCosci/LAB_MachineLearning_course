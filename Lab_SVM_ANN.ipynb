{
  "nbformat": 4,
  "nbformat_minor": 0,
  "metadata": {
    "colab": {
      "name": "Lab_SVM_ANN.ipynb",
      "provenance": [],
      "collapsed_sections": [],
      "include_colab_link": true
    },
    "kernelspec": {
      "name": "python3",
      "display_name": "Python 3"
    },
    "language_info": {
      "name": "python"
    }
  },
  "cells": [
    {
      "cell_type": "markdown",
      "metadata": {
        "id": "view-in-github",
        "colab_type": "text"
      },
      "source": [
        "<a href=\"https://colab.research.google.com/github/CristianCosci/LAB_MachineLearning_course/blob/main/Lab_SVM_ANN.ipynb\" target=\"_parent\"><img src=\"https://colab.research.google.com/assets/colab-badge.svg\" alt=\"Open In Colab\"/></a>"
      ]
    },
    {
      "cell_type": "code",
      "source": [
        "# Link to drive to access files\n",
        "from google.colab import drive\n",
        "drive.mount('/content/drive')"
      ],
      "metadata": {
        "id": "bGHIK_KxIVbF"
      },
      "execution_count": null,
      "outputs": []
    },
    {
      "cell_type": "code",
      "metadata": {
        "id": "gmqg_uHtE-TG"
      },
      "source": [
        "from sklearn import datasets\n",
        "from sklearn import metrics\n",
        "from sklearn.model_selection import train_test_split"
      ],
      "execution_count": 2,
      "outputs": []
    },
    {
      "cell_type": "code",
      "execution_count": null,
      "metadata": {
        "id": "VdkIkP6kqpAU"
      },
      "outputs": [],
      "source": [
        "iris = datasets.load_iris()\n",
        "\n",
        "# Split dataset into training set and test set\n",
        "X_train, X_test, y_train, y_test = train_test_split(iris.data, iris.target, test_size=0.3, random_state=109) # 70% training and 30% test\n",
        "\n",
        "print(iris.feature_names)\n",
        "print(iris.target_names)"
      ]
    },
    {
      "cell_type": "code",
      "source": [
        "from sklearn.svm import SVC\n",
        "from sklearn.svm import LinearSVC\n",
        "\n",
        "# SVC model with linear kernel compared to the LinearSVC model\n",
        "svm_model = SVC(kernel='linear')\n",
        "svm_model = svm_model.fit(X_train, y_train)\n",
        "y_pred = svm_model.predict(X_test)\n",
        "print(\"accuracy on test SVC: \", metrics.accuracy_score(y_test, y_pred))\n",
        "\n",
        "#-----------------------------------------------------------------------\n",
        "\n",
        "svm_linear_model = LinearSVC()\n",
        "svm_linear_model = svm_linear_model.fit(X_train, y_train)\n",
        "y_pred_linear = svm_linear_model.predict(X_test)\n",
        "print(\"accuracy on test linearSVC: \", metrics.accuracy_score(y_test, y_pred_linear))"
      ],
      "metadata": {
        "id": "O62rdARKrJGk"
      },
      "execution_count": null,
      "outputs": []
    },
    {
      "cell_type": "code",
      "source": [
        "import matplotlib.pyplot as plt\n",
        "from mlxtend.plotting import plot_decision_regions\n",
        "\n",
        "svc_vis = SVC(kernel=\"linear\", decision_function_shape='ovo') \n",
        "svc_vis = svc_vis.fit(X_train[:, 2:4], y_train) # We can plot only in 2 dimension then train only on 2 features\n",
        "\n",
        "# Plot decision_regions\n",
        "plot_decision_regions(X_train[:, 2:4], y_train, clf = svc_vis, legend = 2)\n",
        "\n",
        "plt.xlabel(\"petal length\")\n",
        "plt.ylabel(\"petal width\")\n",
        "plt.title(\"scv vis decision boundaries\")"
      ],
      "metadata": {
        "id": "5_59SPRcHV9W"
      },
      "execution_count": null,
      "outputs": []
    },
    {
      "cell_type": "code",
      "source": [
        "# Plot decision_regions of LinearSVC\n",
        "svc2_vis = LinearSVC() \n",
        "svc2_vis = svc2_vis.fit(X_train[:, 2:4], y_train) \n",
        "\n",
        "plot_decision_regions(X_train[:, 2:4], y_train, clf = svc2_vis, legend = 2)\n",
        "\n",
        "plt.xlabel(\"petal length\")\n",
        "plt.ylabel(\"petal width\")\n",
        "plt.title(\"scv2 vis decision boundaries\")"
      ],
      "metadata": {
        "id": "ttQwhsaTLkH_"
      },
      "execution_count": null,
      "outputs": []
    },
    {
      "cell_type": "code",
      "source": [
        "# Load dataset from drive\n",
        "import pandas as pd\n",
        "\n",
        "iris_modified = pd.read_csv('/content/drive/MyDrive/Colab Notebooks/iris_modified_redundantAttib.csv')\n",
        "non_linear_data = pd.read_csv('/content/drive/MyDrive/Colab Notebooks/non_linear_data.csv')\n",
        "\n",
        "print(iris_modified.head())"
      ],
      "metadata": {
        "id": "Mug_x7mJQnGO"
      },
      "execution_count": null,
      "outputs": []
    },
    {
      "cell_type": "code",
      "source": [
        "train_x, test_x, train_y, test_y = train_test_split(iris_modified[['sepal_length', 'sepal_width', 'petal_length', 'petal_width','new_attribute_1','new_attribute_2','new_attribute_3', 'new_attribute_4', 'new_attribute_5']], iris_modified['target'], test_size=0.3, random_state = 109)\n",
        "\n",
        "svc = SVC(kernel = \"linear\")\n",
        "svc = svc.fit(train_x, train_y)\n",
        "y_pred = svc.predict(test_x)\n",
        "print(\"accuracy on test SVC: \", metrics.accuracy_score(y_test, y_pred))"
      ],
      "metadata": {
        "id": "rpaFyA_jRKVh"
      },
      "execution_count": null,
      "outputs": []
    },
    {
      "cell_type": "code",
      "source": [
        "non_linear_data = non_linear_data.drop(columns=['Unnamed: 0'], axis=0)\n",
        "print(non_linear_data.head())\n",
        "print(len(non_linear_data))"
      ],
      "metadata": {
        "id": "zlyKGWQDYRMj"
      },
      "execution_count": null,
      "outputs": []
    },
    {
      "cell_type": "code",
      "source": [
        "plt.scatter(x = non_linear_data.x, y = non_linear_data.y, c = non_linear_data.c)"
      ],
      "metadata": {
        "id": "MusBm6Sfe2Vr"
      },
      "execution_count": null,
      "outputs": []
    },
    {
      "cell_type": "code",
      "source": [
        "import numpy as np\n",
        "\n",
        "points = np.asarray(non_linear_data[['x', 'y']])\n",
        "labels = np.asarray(non_linear_data['c'])\n",
        "\n",
        "# Split the data into training and testing\n",
        "train_points, test_points , train_labels, test_labels = train_test_split(points, labels, test_size = 0.2, random_state = 19)"
      ],
      "metadata": {
        "id": "0TR15VFRiPSj"
      },
      "execution_count": 14,
      "outputs": []
    },
    {
      "cell_type": "markdown",
      "source": [
        "### **Comparison of SVC model with linear kernel vs other model using non linear data for dataset**"
      ],
      "metadata": {
        "id": "LAeL7L21d4HP"
      }
    },
    {
      "cell_type": "code",
      "source": [
        "from sklearn.tree import DecisionTreeClassifier\n",
        "\n",
        "dt = DecisionTreeClassifier()\n",
        "dt = dt.fit(train_points, train_labels)\n",
        "y_pred = dt.predict(test_points)\n",
        "print(\"accuracy on test DT: \", metrics.accuracy_score(test_labels, y_pred))"
      ],
      "metadata": {
        "id": "YzKAdqA3jR1h"
      },
      "execution_count": null,
      "outputs": []
    },
    {
      "cell_type": "code",
      "source": [
        "from sklearn.naive_bayes import GaussianNB\n",
        "from sklearn.naive_bayes import BernoulliNB\n",
        "\n",
        "gnb = GaussianNB()\n",
        "gnb = gnb.fit(train_points, train_labels)\n",
        "y_pred = gnb.predict(test_points)\n",
        "print(\"Accuracy gNB:\", metrics.accuracy_score(test_labels, y_pred))\n",
        "\n",
        "bNB = BernoulliNB(binarize = 1.5)\n",
        "bNB = bNB.fit(train_points, train_labels)\n",
        "y_pred = bNB.predict(test_points)\n",
        "print(\"Accuracy bNB:\", metrics.accuracy_score(test_labels, y_pred))"
      ],
      "metadata": {
        "id": "RlWOQ_9dkxYp"
      },
      "execution_count": null,
      "outputs": []
    },
    {
      "cell_type": "code",
      "source": [
        "from sklearn.neighbors import KNeighborsClassifier\n",
        "\n",
        "knn = KNeighborsClassifier(n_neighbors = 15)\n",
        "knn = knn.fit(train_points, train_labels)\n",
        "y_pred = knn.predict(test_points)\n",
        "print(\"accuracy on test KNN: \", metrics.accuracy_score(test_labels, y_pred))"
      ],
      "metadata": {
        "id": "8x7QD633lnYG"
      },
      "execution_count": null,
      "outputs": []
    },
    {
      "cell_type": "code",
      "source": [
        "svm_model = SVC(kernel='linear')\n",
        "svm_model = svm_model.fit(train_points, train_labels)\n",
        "y_pred = svm_model.predict(test_points)\n",
        "print(\"accuracy on test SVC lineare: \", metrics.accuracy_score(test_labels, y_pred))"
      ],
      "metadata": {
        "id": "CHgR-2H-na1o"
      },
      "execution_count": null,
      "outputs": []
    },
    {
      "cell_type": "markdown",
      "source": [
        "### **Compariso of decision_regions using different kernel function**"
      ],
      "metadata": {
        "id": "bDlDHVu4e0GS"
      }
    },
    {
      "cell_type": "code",
      "source": [
        "plot_decision_regions(points, labels, clf=svm_model, legend =2)\n",
        "plt.xlabel('x1')\n",
        "plt.ylabel('x2')\n",
        "plt.title(' test')\n",
        "plt.show()"
      ],
      "metadata": {
        "id": "uuaevkgjnwOg"
      },
      "execution_count": null,
      "outputs": []
    },
    {
      "cell_type": "code",
      "source": [
        "svm_model = SVC(kernel='poly', degree=4)\n",
        "svm_model = svm_model.fit(train_points, train_labels)\n",
        "y_pred = svm_model.predict(test_points)\n",
        "print(\"accuracy on test SVC rbf: \", metrics.accuracy_score(test_labels, y_pred))\n",
        "\n",
        "# Plotting decision regions\n",
        "plot_decision_regions(points, labels, clf=svm_model, legend=2)\n",
        "plt.xlabel('x1')\n",
        "plt.ylabel('x2')\n",
        "plt.title(' test')"
      ],
      "metadata": {
        "id": "GAc-H98Xp-dX"
      },
      "execution_count": null,
      "outputs": []
    },
    {
      "cell_type": "markdown",
      "source": [
        "# **MLP classifier**"
      ],
      "metadata": {
        "id": "BJVRmaV8e9bM"
      }
    },
    {
      "cell_type": "code",
      "source": [
        "iris = datasets.load_iris()\n",
        "\n",
        "# Split dataset into training set and test set\n",
        "X_train, X_test, y_train, y_test = train_test_split(iris.data, iris.target, test_size=0.3) # 70% training and 30% test\n",
        "\n",
        "print(iris.feature_names)\n",
        "print(iris.target_names)"
      ],
      "metadata": {
        "id": "VQhP73lZjfuC"
      },
      "execution_count": null,
      "outputs": []
    },
    {
      "cell_type": "code",
      "source": [
        "#Importing MLPClassifier\n",
        "from sklearn.neural_network import MLPClassifier\n",
        "\n",
        "clf = MLPClassifier(hidden_layer_sizes=(), random_state=1, max_iter=100000, verbose=False).fit(X_train, y_train) # Only one layer (perceptron)\n",
        "clf.predict_proba(X_test[:1])\n",
        "y_pred_train = clf.predict(X_train)\n",
        "y_pred = clf.predict(X_test)\n",
        "print(clf.score(X_test, y_test))\n",
        "print('Accuracy train: ', metrics.accuracy_score(y_train, y_pred_train))\n",
        "print('Accuracy test: ', metrics.accuracy_score(y_test, y_pred))"
      ],
      "metadata": {
        "id": "HFfGWIqwvyWi"
      },
      "execution_count": null,
      "outputs": []
    },
    {
      "cell_type": "code",
      "source": [
        "clf = MLPClassifier(hidden_layer_sizes=(100, 150, 100), random_state=1, max_iter=100000, verbose=False, early_stopping = False).fit(X_train, y_train) # With 3 hidden layer -> multilayer perceptron\n",
        "clf.predict_proba(X_test[:1])\n",
        "y_pred_train = clf.predict(X_train)\n",
        "y_pred = clf.predict(X_test)\n",
        "print(clf.score(X_test, y_test))\n",
        "print('Accuracy train: ', metrics.accuracy_score(y_train, y_pred_train))\n",
        "print('Accuracy test: ', metrics.accuracy_score(y_test, y_pred))"
      ],
      "metadata": {
        "id": "AyiCPgHCvyIa"
      },
      "execution_count": null,
      "outputs": []
    }
  ]
}