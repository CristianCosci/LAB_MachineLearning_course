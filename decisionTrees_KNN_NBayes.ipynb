{
  "cells": [
    {
      "cell_type": "markdown",
      "metadata": {
        "id": "view-in-github",
        "colab_type": "text"
      },
      "source": [
        "<a href=\"https://colab.research.google.com/github/CristianCosci/LAB_MachineLearning_course/blob/main/decisionTrees_KNN_NBayes.ipynb\" target=\"_parent\"><img src=\"https://colab.research.google.com/assets/colab-badge.svg\" alt=\"Open In Colab\"/></a>"
      ]
    },
    {
      "cell_type": "markdown",
      "metadata": {
        "id": "tPWb-BP8TUbU"
      },
      "source": [
        "iris.csv\n",
        "https://gist.github.com/netj/8836201"
      ]
    },
    {
      "cell_type": "markdown",
      "metadata": {
        "id": "dshrBrrKbw8Q"
      },
      "source": [
        "\n",
        "\n",
        "---\n",
        "\n",
        "\n",
        " **DecisionTree Classification with Multiple Labels using Scikit-learn**\n",
        "\n",
        "\n",
        "---\n",
        "\n"
      ]
    },
    {
      "cell_type": "code",
      "execution_count": null,
      "metadata": {
        "id": "w29ns9oe8z7_"
      },
      "outputs": [],
      "source": [
        "import numpy as np\n",
        "from sklearn import datasets\n",
        "from sklearn.model_selection import train_test_split # Import train_test_split function\n",
        "from sklearn import metrics #Import scikit-learn metrics module for accuracy calculation\n",
        "\n",
        "from sklearn.tree import DecisionTreeClassifier # Import Decision Tree Classifier"
      ]
    },
    {
      "cell_type": "markdown",
      "metadata": {
        "id": "ZvPpXwg0b_Rd"
      },
      "source": [
        "**Loading data**"
      ]
    },
    {
      "cell_type": "code",
      "execution_count": null,
      "metadata": {
        "id": "ATytPo-f9CO4"
      },
      "outputs": [],
      "source": [
        "#TO DO\n",
        "iris = datasets.load_iris()\n",
        "print(type(iris))\n",
        "print(iris)"
      ]
    },
    {
      "cell_type": "markdown",
      "metadata": {
        "id": "PgFUejMGcGJH"
      },
      "source": [
        "**Exploring the data**"
      ]
    },
    {
      "cell_type": "code",
      "execution_count": null,
      "metadata": {
        "id": "KpDZEFXk9I4Q"
      },
      "outputs": [],
      "source": [
        "print(iris.data.shape)\n",
        "print(iris.target_names)\n",
        "print(iris.feature_names)\n",
        "print(iris.target)"
      ]
    },
    {
      "cell_type": "markdown",
      "metadata": {
        "id": "slblzuSecPM9"
      },
      "source": [
        "**Splitting the data**"
      ]
    },
    {
      "cell_type": "code",
      "execution_count": null,
      "metadata": {
        "id": "7nR9BjQI9XKT"
      },
      "outputs": [],
      "source": [
        "X_train, X_test, y_train, y_test = train_test_split(iris.data, iris.target, test_size=0.3, random_state=6)"
      ]
    },
    {
      "cell_type": "code",
      "execution_count": null,
      "metadata": {
        "id": "rgY289z09g5h"
      },
      "outputs": [],
      "source": [
        "print(X_train.shape)\n",
        "print(X_test.shape)\n",
        "print(y_train.shape)\n",
        "print(y_test.shape)"
      ]
    },
    {
      "cell_type": "markdown",
      "metadata": {
        "id": "EIPjpvFJcSMi"
      },
      "source": [
        "**Model Generation**"
      ]
    },
    {
      "cell_type": "code",
      "execution_count": null,
      "metadata": {
        "id": "uvYymesw9tMq"
      },
      "outputs": [],
      "source": [
        "dt = DecisionTreeClassifier()\n",
        "dt = dt.fit(X_train, y_train)"
      ]
    },
    {
      "cell_type": "markdown",
      "metadata": {
        "id": "pfgNPuYNctzR"
      },
      "source": [
        "**Model visualization**"
      ]
    },
    {
      "cell_type": "code",
      "execution_count": null,
      "metadata": {
        "id": "UHegNVkh_qtN"
      },
      "outputs": [],
      "source": [
        "from sklearn.tree import export_graphviz\n",
        "from six import StringIO\n",
        "from IPython.display import Image  \n",
        "import pydotplus\n",
        "\n",
        "dot_data = StringIO()\n",
        "export_graphviz(dt,\n",
        "            out_file =  dot_data,\n",
        "            feature_names = list(iris.feature_names),\n",
        "            class_names = iris.target_names,\n",
        "            filled = True,\n",
        "            rounded = True)\n",
        "\n",
        "graph = pydotplus.graph_from_dot_data(dot_data.getvalue())  \n",
        "graph.write_png('my_Tree_4.png')\n",
        "Image(graph.create_png())\n",
        "#Evenly distributed would be 1 – (1/# Classes).\n",
        "#max_gini = 1- (1/len(iris.target_names))\n",
        "#print(max_gini)"
      ]
    },
    {
      "cell_type": "markdown",
      "metadata": {
        "id": "f2aJRBvbcW4F"
      },
      "source": [
        "**Making predictions**"
      ]
    },
    {
      "cell_type": "code",
      "execution_count": null,
      "metadata": {
        "id": "wxmtlU_pAP_n"
      },
      "outputs": [],
      "source": [
        "# Making a Prediction On a New Sample\n",
        "sample_one_pred = dt.predict(X_test[0:2, :])\n",
        "\n",
        "#print(X_test[0:2,:])\n",
        "#print(sample_one_pred)\n",
        "\n",
        "print(f\"The first sample most likely belongs to the {iris.target_names[sample_one_pred]} iris class.\")\n",
        "\n",
        "sample_two_pred = dt.predict([[1.5, 2, 1.1, 0.6]])\n",
        "#print(sample_two_pred)\n",
        "print(f\"The second sample most likely belongs to the {iris.target_names[sample_two_pred]} iris class.\")\n",
        "\n",
        "#predict probability\n",
        "sample_three_pred = dt.predict_proba(X_test[0:2, :])\n",
        "print(sample_three_pred)"
      ]
    },
    {
      "cell_type": "markdown",
      "metadata": {
        "id": "Y0QHBLbRcbHm"
      },
      "source": [
        "**Model evalution: accuracy**\n",
        "TO DO:\n",
        "how to evaluate?what is accuracy?"
      ]
    },
    {
      "cell_type": "code",
      "execution_count": null,
      "metadata": {
        "id": "IcN7GFAE9-zj"
      },
      "outputs": [],
      "source": [
        "#Model Accuracy\n",
        "\n",
        "#Predict the response for test dataset\n",
        "y_pred = dt.predict(X_test)\n",
        "print(\"accuracy on test: \", metrics.accuracy_score(y_test, y_pred))\n",
        "#Predict the response for train dataset\n",
        "y_pred = dt.predict(X_train)\n",
        "print(\"accuracy on train: \", metrics.accuracy_score(y_train, y_pred))"
      ]
    },
    {
      "cell_type": "markdown",
      "metadata": {
        "id": "-BnJrzSbcw8l"
      },
      "source": [
        "**Cross-validation**"
      ]
    },
    {
      "cell_type": "code",
      "execution_count": null,
      "metadata": {
        "id": "cATnuEJqCxP4"
      },
      "outputs": [],
      "source": [
        "from sklearn.model_selection import cross_val_score\n",
        "\n",
        "cross_validation_score = cross_val_score(dt, iris.data, iris.target, cv=10)\n",
        "print(cross_validation_score)"
      ]
    },
    {
      "cell_type": "markdown",
      "metadata": {
        "id": "k-xpDjKgc5Q2"
      },
      "source": [
        "**Confusion matrix and classification report**\n",
        "explain confusion matrix from documentation"
      ]
    },
    {
      "cell_type": "code",
      "execution_count": null,
      "metadata": {
        "id": "xU07XJwUKfNT"
      },
      "outputs": [],
      "source": [
        "from sklearn.metrics import confusion_matrix\n",
        "\n",
        "y_pred = dt.predict(X_test)\n",
        "\n",
        "confusion_matrix(y_test, y_pred)\n"
      ]
    },
    {
      "cell_type": "markdown",
      "metadata": {
        "id": "YbzU3mqCdABa"
      },
      "source": [
        "**Plotting the confusion matrix**"
      ]
    },
    {
      "cell_type": "code",
      "execution_count": null,
      "metadata": {
        "id": "TOHKqL0wbgeV"
      },
      "outputs": [],
      "source": [
        "import matplotlib.pyplot as plt\n",
        "from sklearn.metrics import plot_confusion_matrix\n",
        "# Plot non-normalized confusion matrix\n",
        "class_names = iris.target_names\n",
        "title = \"confusion matrix\"\n",
        "#for title, normalize in titles_options:\n",
        "disp = plot_confusion_matrix(dt, X_test, y_test,\n",
        "                                 display_labels=class_names,\n",
        "                                 cmap=plt.cm.Blues,\n",
        "                                 normalize=None) #normalize =None\n",
        "disp.ax_.set_title(title)\n",
        "\n",
        "print(title)\n",
        "print(disp.confusion_matrix)\n",
        "\n",
        "plt.show()"
      ]
    },
    {
      "cell_type": "markdown",
      "metadata": {
        "id": "6BE4RQYpIDDM"
      },
      "source": [
        "**KNN classifier**"
      ]
    },
    {
      "cell_type": "markdown",
      "metadata": {
        "id": "kcwYtvhFIwbZ"
      },
      "source": [
        "**Exploring the WINE dataset**"
      ]
    },
    {
      "cell_type": "code",
      "execution_count": null,
      "metadata": {
        "id": "AKe2xobkIUpu"
      },
      "outputs": [],
      "source": [
        "wine = datasets.load_wine()\n",
        "\n",
        "print(wine.feature_names)\n",
        "# print the label species(class_0, class_1, class_2)\n",
        "print(wine.target_names)\n",
        "\n",
        "# print(wine.data)"
      ]
    },
    {
      "cell_type": "code",
      "execution_count": null,
      "metadata": {
        "id": "DMl_67_KIcUH"
      },
      "outputs": [],
      "source": [
        "# Print the wine data (first 5 records)and get min and max values\n",
        "print(wine.data[0:2])\n",
        "# Print the min and max attribute value\n",
        "print(\"min: \", np.min(wine.data))\n",
        "print(\"max: \", np.max(wine.data))\n",
        "\n",
        "# print data(feature)shape\n",
        "print(wine.data.shape)\n",
        "# print target(or label)shape\n",
        "print(wine.target.shape)"
      ]
    },
    {
      "cell_type": "markdown",
      "metadata": {
        "id": "K0fwJGCiIsQK"
      },
      "source": [
        "**Splitting the data**"
      ]
    },
    {
      "cell_type": "code",
      "execution_count": null,
      "metadata": {
        "id": "nGJUy13DIqkv"
      },
      "outputs": [],
      "source": [
        "# Split dataset into training set and test set\n",
        "X_ref, X_test, y_ref, y_test = train_test_split(wine.data, wine.target, test_size=0.3, random_state=6)\n",
        "print(X_ref.shape, X_test.shape, y_ref.shape, y_test.shape)"
      ]
    },
    {
      "cell_type": "code",
      "execution_count": null,
      "metadata": {
        "id": "Xm702f9VI1wE"
      },
      "outputs": [],
      "source": [
        "# Import knearest neighbors Classifier model\n",
        "from sklearn.neighbors import KNeighborsClassifier\n",
        "\n",
        "# Create KNN Classifier\n",
        "knn = KNeighborsClassifier(n_neighbors=5)\n",
        "\n",
        "# Prepare the model using the reference set\n",
        "knn = knn.fit(X_ref, y_ref)\n",
        "\n",
        "# Predict the response for test dataset\n",
        "y_pred = knn.predict(X_test)\n",
        "print(y_pred)"
      ]
    },
    {
      "cell_type": "markdown",
      "metadata": {
        "id": "sVNE6yrSI_0u"
      },
      "source": [
        "**Making predictions**"
      ]
    },
    {
      "cell_type": "code",
      "execution_count": null,
      "metadata": {
        "id": "8jrQq1MZJAR-"
      },
      "outputs": [],
      "source": [
        "new_wine = [[1,2,3,1,1,4,2,3,4,5,6,7,2]]\n",
        "y_predict = knn.predict(new_wine)\n",
        "print(y_predict)\n",
        "\n",
        "y_predict_proba = knn.predict_proba(new_wine)\n",
        "print(y_predict_proba)\n",
        "\n",
        "classes= {0:\"class_1\", 1: \"class_2\", 2:\"class_3\"}\n",
        "print(classes[y_predict[0]])\n",
        "\n",
        "y_predict = knn.predict(X_test[:5])\n",
        "print(y_predict)"
      ]
    },
    {
      "cell_type": "markdown",
      "metadata": {
        "id": "z4PftUIaJJNo"
      },
      "source": [
        "**Model evaluation**"
      ]
    },
    {
      "cell_type": "code",
      "execution_count": null,
      "metadata": {
        "id": "bS0VIybVJICN"
      },
      "outputs": [],
      "source": [
        "# Predict the response for test dataset\n",
        "y_pred = knn.predict(X_test)\n",
        "print(y_pred)\n",
        "# Model Accuracy, how often is the classifier correct?\n",
        "print(\"Accuracy:\", metrics.accuracy_score(y_test, y_pred))"
      ]
    },
    {
      "cell_type": "markdown",
      "metadata": {
        "id": "Tac0f979JO-F"
      },
      "source": [
        "**Another KNN classifier**"
      ]
    },
    {
      "cell_type": "code",
      "execution_count": null,
      "metadata": {
        "id": "bvxuUHp_JPOY"
      },
      "outputs": [],
      "source": [
        "# Create another KNN Classifier with different n_neighbors\n",
        "knn_second = KNeighborsClassifier(n_neighbors=3)\n",
        "\n",
        "# Train the model using the training sets\n",
        "knn_second = knn_second.fit(X_ref, y_ref)\n",
        "\n",
        "# Predict the response for test dataset\n",
        "y_pred_second = knn_second.predict(X_test)\n",
        "\n",
        "# Model Accuracy, how often is the classifier correct?\n",
        "print(\"Accuracy:\",  metrics.accuracy_score(y_test, y_pred_second))"
      ]
    },
    {
      "cell_type": "markdown",
      "metadata": {
        "id": "OcjfF9lkJWLr"
      },
      "source": [
        "**Creating various classifiers with different k values and plot the accuracy**"
      ]
    },
    {
      "cell_type": "code",
      "execution_count": null,
      "metadata": {
        "id": "2Y-evEYcJWl4"
      },
      "outputs": [],
      "source": [
        "import matplotlib.pyplot as plt\n",
        "\n",
        "def find_best_k_value(data_ref, label_ref, data_test, label_test, max_k):\n",
        "  score_list = []\n",
        "  for k in range(1, max_k):\n",
        "    knn = KNeighborsClassifier(n_neighbors=k)\n",
        "    knn = knn.fit(data_ref, label_ref)\n",
        "    y_pred = knn.predict(data_test)\n",
        "    score_list.append(metrics.accuracy_score(label_test, y_pred))\n",
        "  \n",
        "  plt.plot(range(1, max_k), score_list)\n",
        "  plt.xlabel('values of k for KNN')\n",
        "  plt.ylabel('testing accuracy values')"
      ]
    },
    {
      "cell_type": "code",
      "execution_count": null,
      "metadata": {
        "id": "8uXznpJvJd48"
      },
      "outputs": [],
      "source": [
        "# Call find_best_k_values function\n",
        "find_best_k_value(X_ref, y_ref, X_test, y_test, max_k=26)"
      ]
    },
    {
      "cell_type": "code",
      "execution_count": null,
      "metadata": {
        "id": "KDCwfADGJhBz"
      },
      "outputs": [],
      "source": [
        "# Recall min and max attribute values\n",
        "print(np.max(wine.data, axis = 0))\n",
        "print(np.min(wine.data, axis = 0))"
      ]
    },
    {
      "cell_type": "code",
      "execution_count": null,
      "metadata": {
        "id": "H8gl1gpVJi6d"
      },
      "outputs": [],
      "source": [
        "# NORMALIZATION\n",
        "from sklearn.preprocessing import MinMaxScaler\n",
        "\n",
        "minmax = MinMaxScaler()\n",
        "data_min_max = minmax.fit_transform(wine.data)\n",
        "\n",
        "\n",
        "print(data_min_max)\n",
        "print(np.max(data_min_max, axis = 0))\n",
        "print(np.min(data_min_max, axis = 0))"
      ]
    },
    {
      "cell_type": "code",
      "execution_count": null,
      "metadata": {
        "id": "uJxqesqUi50B"
      },
      "outputs": [],
      "source": [
        "# STANDARDIZATION\n",
        "from sklearn.preprocessing import StandardScaler\n",
        "\n",
        "scaledData = StandardScaler().fit_transform(wine.data)\n",
        "\n",
        "# Printing the data\n",
        "print(scaledData)\n",
        "print(np.max(scaledData, axis = 0))\n",
        "print(np.min(scaledData, axis = 0))"
      ]
    },
    {
      "cell_type": "code",
      "execution_count": null,
      "metadata": {
        "id": "imMzH-rMlIgw"
      },
      "outputs": [],
      "source": [
        "# NORMALIZATION\n",
        "X_ref_MM, X_test_MM, y_ref_MM, y_test_MM = train_test_split(data_min_max, wine.target, test_size=0.3, random_state=6)\n",
        "\n",
        "find_best_k_value(X_ref_MM,y_ref_MM, X_test_MM, y_test_MM, max_k=26)"
      ]
    },
    {
      "cell_type": "code",
      "execution_count": null,
      "metadata": {
        "id": "TUn9gtSxJt2T"
      },
      "outputs": [],
      "source": [
        "# STANDARDIZATION\n",
        "X_ref_MM, X_test_MM, y_ref_MM, y_test_MM = train_test_split(scaledData, wine.target, test_size=0.3, random_state=6)\n",
        "\n",
        "find_best_k_value(X_ref_MM,y_ref_MM, X_test_MM, y_test_MM, max_k=26)"
      ]
    },
    {
      "cell_type": "markdown",
      "metadata": {
        "id": "IhX9PwCfJ0Wp"
      },
      "source": [
        "**Model evalution: other metrics**"
      ]
    },
    {
      "cell_type": "markdown",
      "metadata": {
        "id": "n8OaYLTkJ2v_"
      },
      "source": [
        "**Precision score**:       \n",
        "   P = $ \\frac{T_p}{T_p + F_p}$, \n",
        "where $T_p$ is the number of true positives and $F_p$ the number of false positives. The precision is intuitively the ability of the classifier not to label as positive a sample that is negative.\n",
        "\n",
        "**Recall score**:    \n",
        "R = $ \\frac{T_p}{T_p + F_n}$, \n",
        "where $T_p$ is the number of true positives and $F_n$ the number of false negatives. The recall is intuitively the ability of the classifier to find all the positive samples.\n",
        "\n",
        "![Structure-of-the-confusion-matrix-with-TP-FN-FP-and-TN-values.png](data:image/png;base64,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)\n"
      ]
    },
    {
      "cell_type": "markdown",
      "metadata": {
        "id": "ySU1sQNqJ8Om"
      },
      "source": [
        "![inverted_tabel.png](data:image/png;base64,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)"
      ]
    },
    {
      "cell_type": "code",
      "execution_count": null,
      "metadata": {
        "id": "7YvGMEYhJ9NP"
      },
      "outputs": [],
      "source": [
        "y_pred = knn.predict(X_test)\n",
        "\n",
        "# Compute the recall score\n",
        "from sklearn.metrics import recall_score, precision_score  #weighted vs macro\n",
        "macro_recall = recall_score(y_test, y_pred, average='macro')\n",
        "print('Macro recall score: {0:0.2f}'.format(macro_recall))\n",
        "\n",
        "w_recall = recall_score(y_test, y_pred, average='weighted')\n",
        "print('weighted recall score: {0:0.2f}'.format(w_recall))\n",
        "\n",
        "# Compute the precision score\n",
        "w_precision = precision_score(y_test, y_pred, average='macro')\n",
        "print('Macro precision score: {0:0.2f}'.format(w_precision))\n",
        "\n",
        "macro_precision = recall_score(y_test, y_pred, average='weighted')\n",
        "print('weighted precision score: {0:0.2f}'.format(macro_precision))"
      ]
    },
    {
      "cell_type": "code",
      "execution_count": null,
      "metadata": {
        "id": "zsTMWUrcKHaT"
      },
      "outputs": [],
      "source": [
        "from sklearn.metrics import  confusion_matrix, ConfusionMatrixDisplay\n",
        "cm = confusion_matrix(y_test, y_pred)\n",
        "\n",
        "disp = ConfusionMatrixDisplay(confusion_matrix=cm, display_labels=knn.classes_)\n",
        "disp.plot()"
      ]
    },
    {
      "cell_type": "code",
      "execution_count": null,
      "metadata": {
        "id": "SKRTvPolK8be"
      },
      "outputs": [],
      "source": [
        "# import numpy as np\n",
        "# import matplotlib.pyplot as plt\n",
        "# from sklearn.metrics import plot_confusion_matrix\n",
        "# # Plot non-normalized confusion matrix\n",
        "# class_names = wine.target_names\n",
        "# title = \"Normalized confusion matrix\"\n",
        "# #for title, normalize in titles_options:\n",
        "# disp = plot_confusion_matrix(knn, X_test, y_test,\n",
        "#                                  display_labels=class_names,\n",
        "#                                  cmap=plt.cm.Blues,\n",
        "#                                  normalize=\"true\")\n",
        "# disp.ax_.set_title(title)\n",
        "\n",
        "# print(title)\n",
        "# print(disp.confusion_matrix)\n",
        "\n",
        "# plt.show()"
      ]
    },
    {
      "cell_type": "markdown",
      "metadata": {
        "id": "Ique71AuMDuX"
      },
      "source": [
        "**Naive Bayes**"
      ]
    },
    {
      "cell_type": "code",
      "execution_count": null,
      "metadata": {
        "id": "MpMGM5ysMG-R"
      },
      "outputs": [],
      "source": [
        "iris = datasets.load_iris()\n",
        "#print(iris.data)\n",
        "\n",
        "# Split dataset into training set and test set\n",
        "X_train, X_test, y_train, y_test = train_test_split(iris.data, iris.target, test_size=0.3, random_state=109) # 70% training and 30% test"
      ]
    },
    {
      "cell_type": "markdown",
      "metadata": {
        "id": "I0EJbEOlMNQD"
      },
      "source": [
        "**Model creation**"
      ]
    },
    {
      "cell_type": "code",
      "execution_count": null,
      "metadata": {
        "id": "yv8UAL4fMP7r"
      },
      "outputs": [],
      "source": [
        "from sklearn.naive_bayes import GaussianNB\n",
        "\n",
        "# Create a Gaussian Classifier\n",
        "gnb = GaussianNB()\n",
        "\n",
        "# Train the model using the training sets\n",
        "gnb = gnb.fit(X_train, y_train)\n",
        "\n",
        "# Predict the response for test dataset\n",
        "y_pred = gnb.predict(X_test)\n",
        "\n",
        "# Model Accuracy, how often is the classifier correct?\n",
        "print(\"Accuracy:\", metrics.accuracy_score(y_test, y_pred))"
      ]
    },
    {
      "cell_type": "code",
      "execution_count": null,
      "metadata": {
        "id": "EA2OudqSMTeU"
      },
      "outputs": [],
      "source": [
        "from sklearn.naive_bayes import BernoulliNB\n",
        "\n",
        "# Create a Bernoulli Classifier\n",
        "bNB = BernoulliNB(binarize = 1.5)\n",
        "\n",
        "# Train the model using the training sets\n",
        "bNB = bNB.fit(X_train, y_train)\n",
        "\n",
        "# Predict the response for test dataset\n",
        "y_pred = bNB.predict(X_test)\n",
        "\n",
        "# Model Accuracy, how often is the classifier correct?\n",
        "print(\"Accuracy:\", metrics.accuracy_score(y_test, y_pred))"
      ]
    },
    {
      "cell_type": "code",
      "execution_count": null,
      "metadata": {
        "id": "qjkT5LcNMzqk"
      },
      "outputs": [],
      "source": [
        "from sklearn.metrics import recall_score, precision_score, classification_report, precision_recall_fscore_support\n",
        "y_pred = gnb.predict(X_test)\n",
        "y_score = gnb.score(X_test, y_test)\n",
        "print('Accuracy: ', y_score)\n",
        "\n",
        "# class_report = classification_report(y_test, y_pred, target_names=iris.target_names, digits=4)\n",
        "# print(class_report)\n",
        "\n",
        "precision, recall, fscore, support = precision_recall_fscore_support(y_test,y_pred,average=None)\n",
        "print('Precision : {}'.format(precision))\n",
        "print('Recall    : {}'.format(recall))\n",
        "print('F-score   : {}'.format(fscore))\n",
        "print('Support   : {}'.format(support))\n",
        "\n",
        "# Per class_precision and per_class_recall\n",
        "per_class_precision = precision_score(y_test, y_pred, average=None)\n",
        "print('Per-class precision score:', per_class_precision)\n",
        "\n",
        "per_class_recall = recall_score(y_test, y_pred, average=None)\n",
        "print('Per-class recall score:', per_class_recall)\n",
        "\n",
        "# Compute the average recall score and average precision score\n",
        "\n",
        "w_recall = recall_score(y_test, y_pred, average='weighted')\n",
        "print('weighted-averaged recall score: {0:0.2f}'.format(w_recall))\n",
        "\n",
        "macro_recall = recall_score(y_test, y_pred, average='macro')\n",
        "print('Macro-averaged recall score: {0:0.2f}'.format(macro_recall))\n",
        "\n",
        "macro_precision = precision_score(y_test, y_pred, average='macro')\n",
        "print('Macro-averaged precision score: {0:0.2f}'.format(macro_precision))\n",
        "\n",
        "w_precision = precision_score(y_test, y_pred, average='weighted')\n",
        "print('weighted-averaged precision score: {0:0.2f}'.format(w_precision))\n",
        "\n",
        "# Further investigation of the classifier : how? \n",
        "from sklearn.metrics import confusion_matrix\n",
        "confusion_matrix(y_test, y_pred)\n",
        "disp = ConfusionMatrixDisplay(confusion_matrix=cm, display_labels=knn.classes_)\n",
        "disp.plot()"
      ]
    },
    {
      "cell_type": "code",
      "execution_count": null,
      "metadata": {
        "id": "yjIik0idMY4F"
      },
      "outputs": [],
      "source": [
        "# Plot the decision boundary \n",
        "from sklearn.naive_bayes import GaussianNB\n",
        "\n",
        "# Create a Gaussian Classifier\n",
        "gnb = GaussianNB()\n",
        "\n",
        "# Train the model using the training sets\n",
        "gnb = gnb.fit(X_train[:, 2:4], y_train)\n",
        "\n",
        "from mlxtend.plotting import plot_decision_regions\n",
        "# Plotting decision region\n",
        "\n",
        "plot_decision_regions(X_train[:, 2:4], y_train, clf = gnb, legend = 2)\n",
        "plt.xlabel('Petal length') # Adding axes annotations\n",
        "plt.ylabel('Petal width')\n",
        "plt.title('GaussianNB')"
      ]
    }
  ],
  "metadata": {
    "colab": {
      "collapsed_sections": [],
      "name": "decisionTrees_KNN_NBayes.ipynb",
      "provenance": [],
      "include_colab_link": true
    },
    "kernelspec": {
      "display_name": "Python 3",
      "name": "python3"
    }
  },
  "nbformat": 4,
  "nbformat_minor": 0
}